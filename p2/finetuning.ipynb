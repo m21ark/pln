{
 "cells": [
  {
   "cell_type": "markdown",
   "metadata": {},
   "source": [
    "# Notebook"
   ]
  },
  {
   "cell_type": "markdown",
   "metadata": {},
   "source": [
    "## Setting up"
   ]
  },
  {
   "cell_type": "code",
   "execution_count": 106,
   "metadata": {},
   "outputs": [],
   "source": [
    "import matplotlib.pyplot as plt\n",
    "import numpy as np\n",
    "import pandas as pd\n",
    "import torch\n",
    "import warnings\n",
    "import time\n",
    "\n",
    "from sklearn.metrics import confusion_matrix\n",
    "from sklearn.metrics import accuracy_score\n",
    "from sklearn.metrics import precision_score\n",
    "from sklearn.metrics import recall_score\n",
    "from sklearn.metrics import f1_score\n",
    "\n",
    "from datasets import Dataset\n",
    "from datasets import DatasetDict\n",
    "from datasets import load_metric\n",
    "\n",
    "from transformers import AutoTokenizer\n",
    "from transformers import AutoModel\n",
    "from transformers import AutoModelForSequenceClassification\n",
    "from transformers import TrainingArguments, Trainer\n",
    "from transformers import DataCollatorWithPadding\n",
    "from transformers import TextClassificationPipeline\n",
    "from transformers import pipeline\n",
    "\n",
    "from peft import get_peft_model, LoraConfig, TaskType\n",
    "\n",
    "# suppress FutureWarning\n",
    "warnings.simplefilter(action='ignore', category=FutureWarning)"
   ]
  },
  {
   "cell_type": "code",
   "execution_count": 107,
   "metadata": {},
   "outputs": [
    {
     "name": "stdout",
     "output_type": "stream",
     "text": [
      "(4168, 2)\n"
     ]
    },
    {
     "data": {
      "text/html": [
       "<div>\n",
       "<style scoped>\n",
       "    .dataframe tbody tr th:only-of-type {\n",
       "        vertical-align: middle;\n",
       "    }\n",
       "\n",
       "    .dataframe tbody tr th {\n",
       "        vertical-align: top;\n",
       "    }\n",
       "\n",
       "    .dataframe thead th {\n",
       "        text-align: right;\n",
       "    }\n",
       "</style>\n",
       "<table border=\"1\" class=\"dataframe\">\n",
       "  <thead>\n",
       "    <tr style=\"text-align: right;\">\n",
       "      <th></th>\n",
       "      <th>text</th>\n",
       "      <th>label</th>\n",
       "    </tr>\n",
       "  </thead>\n",
       "  <tbody>\n",
       "    <tr>\n",
       "      <th>98790</th>\n",
       "      <td>i wanted them to feel now i feel as though i a...</td>\n",
       "      <td>0</td>\n",
       "    </tr>\n",
       "    <tr>\n",
       "      <th>18398</th>\n",
       "      <td>i found myself feeling very sympathetic toward...</td>\n",
       "      <td>2</td>\n",
       "    </tr>\n",
       "    <tr>\n",
       "      <th>139349</th>\n",
       "      <td>ive been feeling pretty good today and tonight...</td>\n",
       "      <td>1</td>\n",
       "    </tr>\n",
       "    <tr>\n",
       "      <th>13416</th>\n",
       "      <td>i can use to cover my ass when i feel inadequate</td>\n",
       "      <td>0</td>\n",
       "    </tr>\n",
       "    <tr>\n",
       "      <th>22297</th>\n",
       "      <td>i feel like ive pissed myself again</td>\n",
       "      <td>3</td>\n",
       "    </tr>\n",
       "  </tbody>\n",
       "</table>\n",
       "</div>"
      ],
      "text/plain": [
       "                                                     text  label\n",
       "98790   i wanted them to feel now i feel as though i a...      0\n",
       "18398   i found myself feeling very sympathetic toward...      2\n",
       "139349  ive been feeling pretty good today and tonight...      1\n",
       "13416    i can use to cover my ass when i feel inadequate      0\n",
       "22297                 i feel like ive pissed myself again      3"
      ]
     },
     "execution_count": 107,
     "metadata": {},
     "output_type": "execute_result"
    }
   ],
   "source": [
    "df = pd.read_pickle(\"data/data_original.pkl\")\n",
    "\n",
    "down_sample_percentage = 1\n",
    "\n",
    "# down sample data\n",
    "df = df.sample(frac=down_sample_percentage/100, random_state=1)\n",
    "\n",
    "# rename emotions to label and map to integers\n",
    "df.rename(columns={'emotions':'label'}, inplace = True)\n",
    "label_map = {\"sadness\": 0, \"joy\": 1, \"love\": 2, \"anger\": 3, \"fear\": 4, \"surprise\": 5} \n",
    "df['label'] = df['label'].map(label_map)\n",
    "\n",
    "print(df.shape)\n",
    "df.head()"
   ]
  },
  {
   "cell_type": "code",
   "execution_count": 108,
   "metadata": {},
   "outputs": [
    {
     "name": "stdout",
     "output_type": "stream",
     "text": [
      "DatasetDict({\n",
      "    train: Dataset({\n",
      "        features: ['text', 'label', '__index_level_0__'],\n",
      "        num_rows: 3334\n",
      "    })\n",
      "    validation: Dataset({\n",
      "        features: ['text', 'label', '__index_level_0__'],\n",
      "        num_rows: 417\n",
      "    })\n",
      "    test: Dataset({\n",
      "        features: ['text', 'label', '__index_level_0__'],\n",
      "        num_rows: 417\n",
      "    })\n",
      "})\n"
     ]
    }
   ],
   "source": [
    "dataset = Dataset.from_pandas(df)\n",
    "\n",
    "# 80% train, 20% test+validation\n",
    "train_test = dataset.train_test_split(test_size=0.2)\n",
    "\n",
    "# Split the 10% test+validation set in half test, half validation\n",
    "valid_test = train_test['test'].train_test_split(test_size=0.5)\n",
    "\n",
    "# gather everyone if you want to have a single DatasetDict\n",
    "train_valid_test_dataset = DatasetDict({\n",
    "    'train': train_test['train'],\n",
    "    'validation': valid_test['train'],\n",
    "    'test': valid_test['test']\n",
    "})\n",
    "\n",
    "print(train_valid_test_dataset)"
   ]
  },
  {
   "cell_type": "markdown",
   "metadata": {},
   "source": [
    "## Fine-tuning a pre-trained Hugging Face model"
   ]
  },
  {
   "cell_type": "markdown",
   "metadata": {},
   "source": [
    "We need to load:\n",
    "- the pre-trained model itself\n",
    "- the tokenizer associated with the model (used to preprocess the data)"
   ]
  },
  {
   "cell_type": "code",
   "execution_count": 109,
   "metadata": {},
   "outputs": [
    {
     "name": "stderr",
     "output_type": "stream",
     "text": [
      "Some weights of DistilBertForSequenceClassification were not initialized from the model checkpoint at distilbert-base-uncased and are newly initialized: ['classifier.bias', 'classifier.weight', 'pre_classifier.bias', 'pre_classifier.weight']\n",
      "You should probably TRAIN this model on a down-stream task to be able to use it for predictions and inference.\n"
     ]
    }
   ],
   "source": [
    "model_name = \"distilbert-base-uncased\" # bert-base-uncased\n",
    "\n",
    "model = AutoModelForSequenceClassification.from_pretrained(model_name, num_labels=6)\n",
    "tokenizer = AutoTokenizer.from_pretrained(model_name)"
   ]
  },
  {
   "cell_type": "code",
   "execution_count": 110,
   "metadata": {},
   "outputs": [
    {
     "name": "stdout",
     "output_type": "stream",
     "text": [
      "DistilBertForSequenceClassification(\n",
      "  (distilbert): DistilBertModel(\n",
      "    (embeddings): Embeddings(\n",
      "      (word_embeddings): Embedding(30522, 768, padding_idx=0)\n",
      "      (position_embeddings): Embedding(512, 768)\n",
      "      (LayerNorm): LayerNorm((768,), eps=1e-12, elementwise_affine=True)\n",
      "      (dropout): Dropout(p=0.1, inplace=False)\n",
      "    )\n",
      "    (transformer): Transformer(\n",
      "      (layer): ModuleList(\n",
      "        (0-5): 6 x TransformerBlock(\n",
      "          (attention): MultiHeadSelfAttention(\n",
      "            (dropout): Dropout(p=0.1, inplace=False)\n",
      "            (q_lin): Linear(in_features=768, out_features=768, bias=True)\n",
      "            (k_lin): Linear(in_features=768, out_features=768, bias=True)\n",
      "            (v_lin): Linear(in_features=768, out_features=768, bias=True)\n",
      "            (out_lin): Linear(in_features=768, out_features=768, bias=True)\n",
      "          )\n",
      "          (sa_layer_norm): LayerNorm((768,), eps=1e-12, elementwise_affine=True)\n",
      "          (ffn): FFN(\n",
      "            (dropout): Dropout(p=0.1, inplace=False)\n",
      "            (lin1): Linear(in_features=768, out_features=3072, bias=True)\n",
      "            (lin2): Linear(in_features=3072, out_features=768, bias=True)\n",
      "            (activation): GELUActivation()\n",
      "          )\n",
      "          (output_layer_norm): LayerNorm((768,), eps=1e-12, elementwise_affine=True)\n",
      "        )\n",
      "      )\n",
      "    )\n",
      "  )\n",
      "  (pre_classifier): Linear(in_features=768, out_features=768, bias=True)\n",
      "  (classifier): Linear(in_features=768, out_features=6, bias=True)\n",
      "  (dropout): Dropout(p=0.2, inplace=False)\n",
      ")\n"
     ]
    }
   ],
   "source": [
    "print(model)"
   ]
  },
  {
   "cell_type": "markdown",
   "metadata": {},
   "source": [
    "We can try to use LoRA to perform the fine-tuning of the model."
   ]
  },
  {
   "cell_type": "code",
   "execution_count": 111,
   "metadata": {},
   "outputs": [],
   "source": [
    "# Set up LoRA configuration for distilbert-base-uncased model\n",
    "# config = LoraConfig(\n",
    "#     r=32,  # Rank of the low-rank matrices\n",
    "#     lora_alpha=32,\n",
    "#     target_modules = ['q_lin', 'k_lin', 'v_lin', 'out_lin', 'q_lin_bias', 'k_lin_bias', 'v_lin_bias', 'out_lin_bias'],\n",
    "#     task_type=TaskType.SEQ_CLS,  # Task type for sequence classification\n",
    "#     lora_dropout=0.1\n",
    "# )\n",
    "\n",
    "# model = get_peft_model(model, config)"
   ]
  },
  {
   "cell_type": "markdown",
   "metadata": {},
   "source": [
    "### Pre-processing the data with the tokenizer"
   ]
  },
  {
   "cell_type": "code",
   "execution_count": 112,
   "metadata": {},
   "outputs": [
    {
     "data": {
      "application/vnd.jupyter.widget-view+json": {
       "model_id": "d59d179e7b2e4a5097c727ce7fbbc51c",
       "version_major": 2,
       "version_minor": 0
      },
      "text/plain": [
       "Map:   0%|          | 0/3334 [00:00<?, ? examples/s]"
      ]
     },
     "metadata": {},
     "output_type": "display_data"
    },
    {
     "data": {
      "application/vnd.jupyter.widget-view+json": {
       "model_id": "d7d59696362c478f83ef169ecc099fc9",
       "version_major": 2,
       "version_minor": 0
      },
      "text/plain": [
       "Map:   0%|          | 0/417 [00:00<?, ? examples/s]"
      ]
     },
     "metadata": {},
     "output_type": "display_data"
    },
    {
     "data": {
      "application/vnd.jupyter.widget-view+json": {
       "model_id": "d80bee76592c46b0b611c9e8212f25d3",
       "version_major": 2,
       "version_minor": 0
      },
      "text/plain": [
       "Map:   0%|          | 0/417 [00:00<?, ? examples/s]"
      ]
     },
     "metadata": {},
     "output_type": "display_data"
    },
    {
     "name": "stdout",
     "output_type": "stream",
     "text": [
      "DatasetDict({\n",
      "    train: Dataset({\n",
      "        features: ['text', 'label', '__index_level_0__', 'input_ids', 'attention_mask'],\n",
      "        num_rows: 3334\n",
      "    })\n",
      "    validation: Dataset({\n",
      "        features: ['text', 'label', '__index_level_0__', 'input_ids', 'attention_mask'],\n",
      "        num_rows: 417\n",
      "    })\n",
      "    test: Dataset({\n",
      "        features: ['text', 'label', '__index_level_0__', 'input_ids', 'attention_mask'],\n",
      "        num_rows: 417\n",
      "    })\n",
      "})\n"
     ]
    }
   ],
   "source": [
    "def preprocess_function(sample):\n",
    "    return tokenizer(sample[\"text\"], padding=True, truncation=True, return_tensors=\"pt\")\n",
    "\n",
    "tokenized_dataset = train_valid_test_dataset.map(preprocess_function, batched=True)\n",
    "\n",
    "print(tokenized_dataset)"
   ]
  },
  {
   "cell_type": "markdown",
   "metadata": {},
   "source": [
    "The preprocessing transforms the data into a format that the model can understand. The model then processes the data to make predictions. This is known as **encoding**. Encoding is done in a two-step process: tokenization, followed by conversion to input IDs."
   ]
  },
  {
   "cell_type": "code",
   "execution_count": 113,
   "metadata": {},
   "outputs": [],
   "source": [
    "# print(tokenized_dataset['train'][321])\n",
    "# tokens = tokenizer.tokenize(tokenized_dataset['train'][321]['text'])\n",
    "# print(tokens)\n",
    "# ids = tokenizer.convert_tokens_to_ids(tokens)\n",
    "# print(ids)"
   ]
  },
  {
   "cell_type": "markdown",
   "metadata": {},
   "source": [
    "### Model training (Fine-tuning)"
   ]
  },
  {
   "cell_type": "code",
   "execution_count": 114,
   "metadata": {},
   "outputs": [],
   "source": [
    "def predict(text):\n",
    "    global model, tokenizer\n",
    "    inputs = tokenizer(text, return_tensors=\"pt\")\n",
    "    outputs = model(**inputs)\n",
    "    predictions = torch.nn.functional.softmax(outputs.logits, dim=1)\n",
    "    print(predictions)\n",
    "    predicted_class = torch.argmax(predictions)\n",
    "    name = [i for i, j in label_map.items() if j == predicted_class.item()][0]\n",
    "    print(f\"Predicted class: {name}\")\n",
    "    \n",
    "# predict(\"I'm so sad\")"
   ]
  },
  {
   "cell_type": "code",
   "execution_count": 115,
   "metadata": {},
   "outputs": [],
   "source": [
    "metric = load_metric(\"accuracy\")\n",
    "\n",
    "def compute_metrics(eval_pred):\n",
    "    logits, labels = eval_pred\n",
    "    predictions = np.argmax(logits, axis=-1)\n",
    "    return metric.compute(predictions=predictions, references=labels)\n",
    "\n",
    "training_args = TrainingArguments(\n",
    "    output_dir=\"./results\",\n",
    "    learning_rate=2e-5,\n",
    "    per_device_train_batch_size=16,\n",
    "    per_device_eval_batch_size=16,\n",
    "    num_train_epochs=3,\n",
    "    weight_decay=0.01,\n",
    "    evaluation_strategy=\"epoch\",\n",
    "    save_strategy=\"epoch\",\n",
    "    load_best_model_at_end=True,\n",
    ")\n",
    "\n",
    "data_collator = DataCollatorWithPadding(tokenizer=tokenizer)\n",
    "\n",
    "trainer = Trainer(\n",
    "    model=model,\n",
    "    args=training_args,\n",
    "    train_dataset=tokenized_dataset[\"train\"],\n",
    "    eval_dataset=tokenized_dataset[\"validation\"],\n",
    "    tokenizer=tokenizer,\n",
    "    data_collator=data_collator,\n",
    "    compute_metrics=compute_metrics\n",
    ")"
   ]
  },
  {
   "cell_type": "code",
   "execution_count": 116,
   "metadata": {},
   "outputs": [
    {
     "data": {
      "application/vnd.jupyter.widget-view+json": {
       "model_id": "7b81426b943a452f903fb63a69d47938",
       "version_major": 2,
       "version_minor": 0
      },
      "text/plain": [
       "  0%|          | 0/27 [00:00<?, ?it/s]"
      ]
     },
     "metadata": {},
     "output_type": "display_data"
    },
    {
     "data": {
      "text/plain": [
       "{'eval_loss': 1.8380184173583984,\n",
       " 'eval_accuracy': 0.03597122302158273,\n",
       " 'eval_runtime': 17.6387,\n",
       " 'eval_samples_per_second': 23.641,\n",
       " 'eval_steps_per_second': 1.531}"
      ]
     },
     "execution_count": 116,
     "metadata": {},
     "output_type": "execute_result"
    }
   ],
   "source": [
    "trainer.evaluate()"
   ]
  },
  {
   "cell_type": "code",
   "execution_count": 117,
   "metadata": {},
   "outputs": [
    {
     "data": {
      "application/vnd.jupyter.widget-view+json": {
       "model_id": "4debeac8b5fa47108b1c5b48add9f238",
       "version_major": 2,
       "version_minor": 0
      },
      "text/plain": [
       "  0%|          | 0/627 [00:00<?, ?it/s]"
      ]
     },
     "metadata": {},
     "output_type": "display_data"
    },
    {
     "data": {
      "application/vnd.jupyter.widget-view+json": {
       "model_id": "000582a5371645a6b7f58845e8f45146",
       "version_major": 2,
       "version_minor": 0
      },
      "text/plain": [
       "  0%|          | 0/27 [00:00<?, ?it/s]"
      ]
     },
     "metadata": {},
     "output_type": "display_data"
    },
    {
     "name": "stdout",
     "output_type": "stream",
     "text": [
      "{'eval_loss': 1.3948520421981812, 'eval_accuracy': 0.5179856115107914, 'eval_runtime': 16.666, 'eval_samples_per_second': 25.021, 'eval_steps_per_second': 1.62, 'epoch': 1.0}\n"
     ]
    },
    {
     "data": {
      "application/vnd.jupyter.widget-view+json": {
       "model_id": "060e84354c6248038954f1fba805de50",
       "version_major": 2,
       "version_minor": 0
      },
      "text/plain": [
       "  0%|          | 0/27 [00:00<?, ?it/s]"
      ]
     },
     "metadata": {},
     "output_type": "display_data"
    },
    {
     "name": "stdout",
     "output_type": "stream",
     "text": [
      "{'eval_loss': 1.2174015045166016, 'eval_accuracy': 0.539568345323741, 'eval_runtime': 19.2605, 'eval_samples_per_second': 21.651, 'eval_steps_per_second': 1.402, 'epoch': 2.0}\n",
      "{'loss': 1.3785, 'grad_norm': 1.835157871246338, 'learning_rate': 4.051036682615631e-06, 'epoch': 2.39}\n"
     ]
    },
    {
     "data": {
      "application/vnd.jupyter.widget-view+json": {
       "model_id": "1e5dcccef49644d5b6bf882d87ef8943",
       "version_major": 2,
       "version_minor": 0
      },
      "text/plain": [
       "  0%|          | 0/27 [00:00<?, ?it/s]"
      ]
     },
     "metadata": {},
     "output_type": "display_data"
    },
    {
     "name": "stdout",
     "output_type": "stream",
     "text": [
      "{'eval_loss': 1.1871600151062012, 'eval_accuracy': 0.5443645083932853, 'eval_runtime': 17.8705, 'eval_samples_per_second': 23.334, 'eval_steps_per_second': 1.511, 'epoch': 3.0}\n",
      "{'train_runtime': 1193.8517, 'train_samples_per_second': 8.378, 'train_steps_per_second': 0.525, 'train_loss': 1.3394844992118968, 'epoch': 3.0}\n",
      "Training time: 19.903788689772288 minutes\n"
     ]
    }
   ],
   "source": [
    "start = time.time()\n",
    "trainer.train()\n",
    "end = time.time()\n",
    "print(f\"Training time: {(end - start)/60} minutes\")"
   ]
  },
  {
   "cell_type": "code",
   "execution_count": 118,
   "metadata": {},
   "outputs": [
    {
     "data": {
      "application/vnd.jupyter.widget-view+json": {
       "model_id": "8cbaf75b6f2d4f3a8abdc972cf5dbc1c",
       "version_major": 2,
       "version_minor": 0
      },
      "text/plain": [
       "  0%|          | 0/27 [00:00<?, ?it/s]"
      ]
     },
     "metadata": {},
     "output_type": "display_data"
    },
    {
     "data": {
      "text/plain": [
       "{'eval_loss': 1.1871600151062012,\n",
       " 'eval_accuracy': 0.5443645083932853,\n",
       " 'eval_runtime': 21.4464,\n",
       " 'eval_samples_per_second': 19.444,\n",
       " 'eval_steps_per_second': 1.259,\n",
       " 'epoch': 3.0}"
      ]
     },
     "execution_count": 118,
     "metadata": {},
     "output_type": "execute_result"
    }
   ],
   "source": [
    "trainer.evaluate()"
   ]
  },
  {
   "cell_type": "code",
   "execution_count": 119,
   "metadata": {},
   "outputs": [
    {
     "data": {
      "application/vnd.jupyter.widget-view+json": {
       "model_id": "915fd483ea534043897d05d691d9b0d4",
       "version_major": 2,
       "version_minor": 0
      },
      "text/plain": [
       "  0%|          | 0/27 [00:00<?, ?it/s]"
      ]
     },
     "metadata": {},
     "output_type": "display_data"
    },
    {
     "data": {
      "text/plain": [
       "PredictionOutput(predictions=array([[ 1.5042312 , -0.46942645, -0.87758887,  0.5508262 ,  0.5680098 ,\n",
       "        -1.1253242 ],\n",
       "       [ 1.4485741 , -0.29451597, -0.85153055,  0.4657004 ,  0.6021304 ,\n",
       "        -0.9874634 ],\n",
       "       [ 0.3573888 ,  1.0839989 , -0.24508281, -0.14755794,  0.02931421,\n",
       "        -1.0039793 ],\n",
       "       ...,\n",
       "       [ 1.8506008 , -0.96911573, -1.0171157 ,  1.130361  ,  0.3946579 ,\n",
       "        -1.1260167 ],\n",
       "       [ 1.3880838 , -0.45947453, -0.799038  ,  1.0078987 ,  0.12592486,\n",
       "        -1.2535125 ],\n",
       "       [ 0.07129819,  1.7157575 ,  0.11083698, -0.260745  , -0.39416343,\n",
       "        -0.91190803]], dtype=float32), label_ids=array([4, 0, 4, 1, 1, 3, 0, 1, 3, 3, 0, 0, 0, 0, 1, 3, 0, 1, 1, 3, 3, 1,\n",
       "       1, 1, 4, 3, 0, 1, 3, 0, 4, 4, 1, 1, 3, 2, 2, 0, 2, 0, 0, 1, 0, 4,\n",
       "       1, 1, 3, 0, 3, 2, 0, 0, 0, 4, 1, 1, 0, 5, 4, 0, 3, 4, 2, 0, 2, 1,\n",
       "       4, 0, 2, 1, 0, 3, 0, 0, 3, 0, 3, 1, 1, 0, 4, 1, 1, 2, 5, 0, 0, 1,\n",
       "       4, 1, 4, 1, 1, 3, 0, 1, 1, 2, 1, 5, 2, 1, 1, 0, 1, 2, 0, 0, 0, 0,\n",
       "       1, 0, 0, 1, 0, 0, 1, 5, 5, 4, 0, 3, 3, 4, 3, 1, 1, 0, 4, 1, 4, 0,\n",
       "       1, 0, 4, 2, 0, 0, 2, 3, 4, 3, 4, 1, 3, 2, 0, 3, 5, 0, 0, 0, 1, 0,\n",
       "       1, 0, 5, 1, 0, 3, 0, 0, 0, 1, 1, 1, 1, 1, 3, 4, 1, 0, 4, 5, 1, 1,\n",
       "       0, 1, 4, 4, 0, 2, 0, 3, 4, 0, 1, 1, 1, 2, 0, 0, 1, 2, 1, 0, 1, 4,\n",
       "       4, 4, 2, 1, 0, 1, 4, 0, 4, 1, 1, 2, 1, 0, 0, 1, 2, 1, 4, 0, 1, 1,\n",
       "       0, 3, 4, 4, 0, 0, 2, 1, 1, 0, 1, 2, 2, 0, 1, 1, 1, 3, 1, 4, 4, 4,\n",
       "       1, 1, 3, 1, 2, 3, 0, 0, 4, 2, 1, 0, 0, 0, 3, 0, 1, 4, 1, 0, 2, 1,\n",
       "       0, 1, 2, 1, 0, 1, 1, 1, 4, 0, 3, 1, 3, 0, 2, 0, 0, 4, 0, 5, 0, 5,\n",
       "       5, 2, 0, 1, 1, 2, 1, 5, 1, 0, 1, 2, 3, 0, 0, 3, 1, 0, 0, 0, 2, 0,\n",
       "       0, 4, 3, 2, 0, 3, 2, 1, 3, 2, 2, 3, 1, 0, 5, 3, 0, 3, 4, 1, 2, 0,\n",
       "       0, 2, 1, 1, 3, 3, 1, 3, 1, 2, 0, 1, 3, 1, 1, 0, 3, 1, 1, 3, 1, 1,\n",
       "       1, 1, 4, 0, 4, 3, 1, 0, 3, 3, 0, 1, 0, 1, 1, 1, 1, 3, 0, 2, 3, 5,\n",
       "       1, 3, 1, 0, 1, 1, 1, 5, 0, 1, 4, 2, 3, 0, 5, 0, 4, 3, 3, 3, 1, 5,\n",
       "       4, 1, 1, 1, 2, 2, 3, 4, 0, 1, 1, 0, 3, 2, 4, 0, 1, 3, 0, 3, 0]), metrics={'test_loss': 1.209909439086914, 'test_accuracy': 0.5203836930455635, 'test_runtime': 23.5369, 'test_samples_per_second': 17.717, 'test_steps_per_second': 1.147})"
      ]
     },
     "execution_count": 119,
     "metadata": {},
     "output_type": "execute_result"
    }
   ],
   "source": [
    "trainer.predict(test_dataset=tokenized_dataset[\"test\"])"
   ]
  },
  {
   "cell_type": "markdown",
   "metadata": {},
   "source": [
    "### Save & Load Model"
   ]
  },
  {
   "cell_type": "code",
   "execution_count": 120,
   "metadata": {},
   "outputs": [
    {
     "name": "stderr",
     "output_type": "stream",
     "text": [
      "Some weights of the model checkpoint at ./results were not used when initializing DistilBertForSequenceClassification: ['base_model.model.classifier.modules_to_save.default.bias', 'base_model.model.classifier.modules_to_save.default.weight', 'base_model.model.classifier.original_module.bias', 'base_model.model.classifier.original_module.weight', 'base_model.model.distilbert.embeddings.LayerNorm.bias', 'base_model.model.distilbert.embeddings.LayerNorm.weight', 'base_model.model.distilbert.embeddings.position_embeddings.weight', 'base_model.model.distilbert.embeddings.word_embeddings.weight', 'base_model.model.distilbert.transformer.layer.0.attention.k_lin.base_layer.bias', 'base_model.model.distilbert.transformer.layer.0.attention.k_lin.base_layer.weight', 'base_model.model.distilbert.transformer.layer.0.attention.k_lin.lora_A.default.weight', 'base_model.model.distilbert.transformer.layer.0.attention.k_lin.lora_B.default.weight', 'base_model.model.distilbert.transformer.layer.0.attention.out_lin.base_layer.bias', 'base_model.model.distilbert.transformer.layer.0.attention.out_lin.base_layer.weight', 'base_model.model.distilbert.transformer.layer.0.attention.out_lin.lora_A.default.weight', 'base_model.model.distilbert.transformer.layer.0.attention.out_lin.lora_B.default.weight', 'base_model.model.distilbert.transformer.layer.0.attention.q_lin.base_layer.bias', 'base_model.model.distilbert.transformer.layer.0.attention.q_lin.base_layer.weight', 'base_model.model.distilbert.transformer.layer.0.attention.q_lin.lora_A.default.weight', 'base_model.model.distilbert.transformer.layer.0.attention.q_lin.lora_B.default.weight', 'base_model.model.distilbert.transformer.layer.0.attention.v_lin.base_layer.bias', 'base_model.model.distilbert.transformer.layer.0.attention.v_lin.base_layer.weight', 'base_model.model.distilbert.transformer.layer.0.attention.v_lin.lora_A.default.weight', 'base_model.model.distilbert.transformer.layer.0.attention.v_lin.lora_B.default.weight', 'base_model.model.distilbert.transformer.layer.0.ffn.lin1.bias', 'base_model.model.distilbert.transformer.layer.0.ffn.lin1.weight', 'base_model.model.distilbert.transformer.layer.0.ffn.lin2.bias', 'base_model.model.distilbert.transformer.layer.0.ffn.lin2.weight', 'base_model.model.distilbert.transformer.layer.0.output_layer_norm.bias', 'base_model.model.distilbert.transformer.layer.0.output_layer_norm.weight', 'base_model.model.distilbert.transformer.layer.0.sa_layer_norm.bias', 'base_model.model.distilbert.transformer.layer.0.sa_layer_norm.weight', 'base_model.model.distilbert.transformer.layer.1.attention.k_lin.base_layer.bias', 'base_model.model.distilbert.transformer.layer.1.attention.k_lin.base_layer.weight', 'base_model.model.distilbert.transformer.layer.1.attention.k_lin.lora_A.default.weight', 'base_model.model.distilbert.transformer.layer.1.attention.k_lin.lora_B.default.weight', 'base_model.model.distilbert.transformer.layer.1.attention.out_lin.base_layer.bias', 'base_model.model.distilbert.transformer.layer.1.attention.out_lin.base_layer.weight', 'base_model.model.distilbert.transformer.layer.1.attention.out_lin.lora_A.default.weight', 'base_model.model.distilbert.transformer.layer.1.attention.out_lin.lora_B.default.weight', 'base_model.model.distilbert.transformer.layer.1.attention.q_lin.base_layer.bias', 'base_model.model.distilbert.transformer.layer.1.attention.q_lin.base_layer.weight', 'base_model.model.distilbert.transformer.layer.1.attention.q_lin.lora_A.default.weight', 'base_model.model.distilbert.transformer.layer.1.attention.q_lin.lora_B.default.weight', 'base_model.model.distilbert.transformer.layer.1.attention.v_lin.base_layer.bias', 'base_model.model.distilbert.transformer.layer.1.attention.v_lin.base_layer.weight', 'base_model.model.distilbert.transformer.layer.1.attention.v_lin.lora_A.default.weight', 'base_model.model.distilbert.transformer.layer.1.attention.v_lin.lora_B.default.weight', 'base_model.model.distilbert.transformer.layer.1.ffn.lin1.bias', 'base_model.model.distilbert.transformer.layer.1.ffn.lin1.weight', 'base_model.model.distilbert.transformer.layer.1.ffn.lin2.bias', 'base_model.model.distilbert.transformer.layer.1.ffn.lin2.weight', 'base_model.model.distilbert.transformer.layer.1.output_layer_norm.bias', 'base_model.model.distilbert.transformer.layer.1.output_layer_norm.weight', 'base_model.model.distilbert.transformer.layer.1.sa_layer_norm.bias', 'base_model.model.distilbert.transformer.layer.1.sa_layer_norm.weight', 'base_model.model.distilbert.transformer.layer.2.attention.k_lin.base_layer.bias', 'base_model.model.distilbert.transformer.layer.2.attention.k_lin.base_layer.weight', 'base_model.model.distilbert.transformer.layer.2.attention.k_lin.lora_A.default.weight', 'base_model.model.distilbert.transformer.layer.2.attention.k_lin.lora_B.default.weight', 'base_model.model.distilbert.transformer.layer.2.attention.out_lin.base_layer.bias', 'base_model.model.distilbert.transformer.layer.2.attention.out_lin.base_layer.weight', 'base_model.model.distilbert.transformer.layer.2.attention.out_lin.lora_A.default.weight', 'base_model.model.distilbert.transformer.layer.2.attention.out_lin.lora_B.default.weight', 'base_model.model.distilbert.transformer.layer.2.attention.q_lin.base_layer.bias', 'base_model.model.distilbert.transformer.layer.2.attention.q_lin.base_layer.weight', 'base_model.model.distilbert.transformer.layer.2.attention.q_lin.lora_A.default.weight', 'base_model.model.distilbert.transformer.layer.2.attention.q_lin.lora_B.default.weight', 'base_model.model.distilbert.transformer.layer.2.attention.v_lin.base_layer.bias', 'base_model.model.distilbert.transformer.layer.2.attention.v_lin.base_layer.weight', 'base_model.model.distilbert.transformer.layer.2.attention.v_lin.lora_A.default.weight', 'base_model.model.distilbert.transformer.layer.2.attention.v_lin.lora_B.default.weight', 'base_model.model.distilbert.transformer.layer.2.ffn.lin1.bias', 'base_model.model.distilbert.transformer.layer.2.ffn.lin1.weight', 'base_model.model.distilbert.transformer.layer.2.ffn.lin2.bias', 'base_model.model.distilbert.transformer.layer.2.ffn.lin2.weight', 'base_model.model.distilbert.transformer.layer.2.output_layer_norm.bias', 'base_model.model.distilbert.transformer.layer.2.output_layer_norm.weight', 'base_model.model.distilbert.transformer.layer.2.sa_layer_norm.bias', 'base_model.model.distilbert.transformer.layer.2.sa_layer_norm.weight', 'base_model.model.distilbert.transformer.layer.3.attention.k_lin.base_layer.bias', 'base_model.model.distilbert.transformer.layer.3.attention.k_lin.base_layer.weight', 'base_model.model.distilbert.transformer.layer.3.attention.k_lin.lora_A.default.weight', 'base_model.model.distilbert.transformer.layer.3.attention.k_lin.lora_B.default.weight', 'base_model.model.distilbert.transformer.layer.3.attention.out_lin.base_layer.bias', 'base_model.model.distilbert.transformer.layer.3.attention.out_lin.base_layer.weight', 'base_model.model.distilbert.transformer.layer.3.attention.out_lin.lora_A.default.weight', 'base_model.model.distilbert.transformer.layer.3.attention.out_lin.lora_B.default.weight', 'base_model.model.distilbert.transformer.layer.3.attention.q_lin.base_layer.bias', 'base_model.model.distilbert.transformer.layer.3.attention.q_lin.base_layer.weight', 'base_model.model.distilbert.transformer.layer.3.attention.q_lin.lora_A.default.weight', 'base_model.model.distilbert.transformer.layer.3.attention.q_lin.lora_B.default.weight', 'base_model.model.distilbert.transformer.layer.3.attention.v_lin.base_layer.bias', 'base_model.model.distilbert.transformer.layer.3.attention.v_lin.base_layer.weight', 'base_model.model.distilbert.transformer.layer.3.attention.v_lin.lora_A.default.weight', 'base_model.model.distilbert.transformer.layer.3.attention.v_lin.lora_B.default.weight', 'base_model.model.distilbert.transformer.layer.3.ffn.lin1.bias', 'base_model.model.distilbert.transformer.layer.3.ffn.lin1.weight', 'base_model.model.distilbert.transformer.layer.3.ffn.lin2.bias', 'base_model.model.distilbert.transformer.layer.3.ffn.lin2.weight', 'base_model.model.distilbert.transformer.layer.3.output_layer_norm.bias', 'base_model.model.distilbert.transformer.layer.3.output_layer_norm.weight', 'base_model.model.distilbert.transformer.layer.3.sa_layer_norm.bias', 'base_model.model.distilbert.transformer.layer.3.sa_layer_norm.weight', 'base_model.model.distilbert.transformer.layer.4.attention.k_lin.base_layer.bias', 'base_model.model.distilbert.transformer.layer.4.attention.k_lin.base_layer.weight', 'base_model.model.distilbert.transformer.layer.4.attention.k_lin.lora_A.default.weight', 'base_model.model.distilbert.transformer.layer.4.attention.k_lin.lora_B.default.weight', 'base_model.model.distilbert.transformer.layer.4.attention.out_lin.base_layer.bias', 'base_model.model.distilbert.transformer.layer.4.attention.out_lin.base_layer.weight', 'base_model.model.distilbert.transformer.layer.4.attention.out_lin.lora_A.default.weight', 'base_model.model.distilbert.transformer.layer.4.attention.out_lin.lora_B.default.weight', 'base_model.model.distilbert.transformer.layer.4.attention.q_lin.base_layer.bias', 'base_model.model.distilbert.transformer.layer.4.attention.q_lin.base_layer.weight', 'base_model.model.distilbert.transformer.layer.4.attention.q_lin.lora_A.default.weight', 'base_model.model.distilbert.transformer.layer.4.attention.q_lin.lora_B.default.weight', 'base_model.model.distilbert.transformer.layer.4.attention.v_lin.base_layer.bias', 'base_model.model.distilbert.transformer.layer.4.attention.v_lin.base_layer.weight', 'base_model.model.distilbert.transformer.layer.4.attention.v_lin.lora_A.default.weight', 'base_model.model.distilbert.transformer.layer.4.attention.v_lin.lora_B.default.weight', 'base_model.model.distilbert.transformer.layer.4.ffn.lin1.bias', 'base_model.model.distilbert.transformer.layer.4.ffn.lin1.weight', 'base_model.model.distilbert.transformer.layer.4.ffn.lin2.bias', 'base_model.model.distilbert.transformer.layer.4.ffn.lin2.weight', 'base_model.model.distilbert.transformer.layer.4.output_layer_norm.bias', 'base_model.model.distilbert.transformer.layer.4.output_layer_norm.weight', 'base_model.model.distilbert.transformer.layer.4.sa_layer_norm.bias', 'base_model.model.distilbert.transformer.layer.4.sa_layer_norm.weight', 'base_model.model.distilbert.transformer.layer.5.attention.k_lin.base_layer.bias', 'base_model.model.distilbert.transformer.layer.5.attention.k_lin.base_layer.weight', 'base_model.model.distilbert.transformer.layer.5.attention.k_lin.lora_A.default.weight', 'base_model.model.distilbert.transformer.layer.5.attention.k_lin.lora_B.default.weight', 'base_model.model.distilbert.transformer.layer.5.attention.out_lin.base_layer.bias', 'base_model.model.distilbert.transformer.layer.5.attention.out_lin.base_layer.weight', 'base_model.model.distilbert.transformer.layer.5.attention.out_lin.lora_A.default.weight', 'base_model.model.distilbert.transformer.layer.5.attention.out_lin.lora_B.default.weight', 'base_model.model.distilbert.transformer.layer.5.attention.q_lin.base_layer.bias', 'base_model.model.distilbert.transformer.layer.5.attention.q_lin.base_layer.weight', 'base_model.model.distilbert.transformer.layer.5.attention.q_lin.lora_A.default.weight', 'base_model.model.distilbert.transformer.layer.5.attention.q_lin.lora_B.default.weight', 'base_model.model.distilbert.transformer.layer.5.attention.v_lin.base_layer.bias', 'base_model.model.distilbert.transformer.layer.5.attention.v_lin.base_layer.weight', 'base_model.model.distilbert.transformer.layer.5.attention.v_lin.lora_A.default.weight', 'base_model.model.distilbert.transformer.layer.5.attention.v_lin.lora_B.default.weight', 'base_model.model.distilbert.transformer.layer.5.ffn.lin1.bias', 'base_model.model.distilbert.transformer.layer.5.ffn.lin1.weight', 'base_model.model.distilbert.transformer.layer.5.ffn.lin2.bias', 'base_model.model.distilbert.transformer.layer.5.ffn.lin2.weight', 'base_model.model.distilbert.transformer.layer.5.output_layer_norm.bias', 'base_model.model.distilbert.transformer.layer.5.output_layer_norm.weight', 'base_model.model.distilbert.transformer.layer.5.sa_layer_norm.bias', 'base_model.model.distilbert.transformer.layer.5.sa_layer_norm.weight', 'base_model.model.pre_classifier.modules_to_save.default.bias', 'base_model.model.pre_classifier.modules_to_save.default.weight', 'base_model.model.pre_classifier.original_module.bias', 'base_model.model.pre_classifier.original_module.weight']\n",
      "- This IS expected if you are initializing DistilBertForSequenceClassification from the checkpoint of a model trained on another task or with another architecture (e.g. initializing a BertForSequenceClassification model from a BertForPreTraining model).\n",
      "- This IS NOT expected if you are initializing DistilBertForSequenceClassification from the checkpoint of a model that you expect to be exactly identical (initializing a BertForSequenceClassification model from a BertForSequenceClassification model).\n",
      "Some weights of DistilBertForSequenceClassification were not initialized from the model checkpoint at ./results and are newly initialized: ['classifier.bias', 'classifier.weight', 'embeddings.LayerNorm.bias', 'embeddings.LayerNorm.weight', 'embeddings.position_embeddings.weight', 'embeddings.word_embeddings.weight', 'pre_classifier.bias', 'pre_classifier.weight', 'transformer.layer.0.attention.k_lin.bias', 'transformer.layer.0.attention.k_lin.weight', 'transformer.layer.0.attention.out_lin.bias', 'transformer.layer.0.attention.out_lin.weight', 'transformer.layer.0.attention.q_lin.bias', 'transformer.layer.0.attention.q_lin.weight', 'transformer.layer.0.attention.v_lin.bias', 'transformer.layer.0.attention.v_lin.weight', 'transformer.layer.0.ffn.lin1.bias', 'transformer.layer.0.ffn.lin1.weight', 'transformer.layer.0.ffn.lin2.bias', 'transformer.layer.0.ffn.lin2.weight', 'transformer.layer.0.output_layer_norm.bias', 'transformer.layer.0.output_layer_norm.weight', 'transformer.layer.0.sa_layer_norm.bias', 'transformer.layer.0.sa_layer_norm.weight', 'transformer.layer.1.attention.k_lin.bias', 'transformer.layer.1.attention.k_lin.weight', 'transformer.layer.1.attention.out_lin.bias', 'transformer.layer.1.attention.out_lin.weight', 'transformer.layer.1.attention.q_lin.bias', 'transformer.layer.1.attention.q_lin.weight', 'transformer.layer.1.attention.v_lin.bias', 'transformer.layer.1.attention.v_lin.weight', 'transformer.layer.1.ffn.lin1.bias', 'transformer.layer.1.ffn.lin1.weight', 'transformer.layer.1.ffn.lin2.bias', 'transformer.layer.1.ffn.lin2.weight', 'transformer.layer.1.output_layer_norm.bias', 'transformer.layer.1.output_layer_norm.weight', 'transformer.layer.1.sa_layer_norm.bias', 'transformer.layer.1.sa_layer_norm.weight', 'transformer.layer.2.attention.k_lin.bias', 'transformer.layer.2.attention.k_lin.weight', 'transformer.layer.2.attention.out_lin.bias', 'transformer.layer.2.attention.out_lin.weight', 'transformer.layer.2.attention.q_lin.bias', 'transformer.layer.2.attention.q_lin.weight', 'transformer.layer.2.attention.v_lin.bias', 'transformer.layer.2.attention.v_lin.weight', 'transformer.layer.2.ffn.lin1.bias', 'transformer.layer.2.ffn.lin1.weight', 'transformer.layer.2.ffn.lin2.bias', 'transformer.layer.2.ffn.lin2.weight', 'transformer.layer.2.output_layer_norm.bias', 'transformer.layer.2.output_layer_norm.weight', 'transformer.layer.2.sa_layer_norm.bias', 'transformer.layer.2.sa_layer_norm.weight', 'transformer.layer.3.attention.k_lin.bias', 'transformer.layer.3.attention.k_lin.weight', 'transformer.layer.3.attention.out_lin.bias', 'transformer.layer.3.attention.out_lin.weight', 'transformer.layer.3.attention.q_lin.bias', 'transformer.layer.3.attention.q_lin.weight', 'transformer.layer.3.attention.v_lin.bias', 'transformer.layer.3.attention.v_lin.weight', 'transformer.layer.3.ffn.lin1.bias', 'transformer.layer.3.ffn.lin1.weight', 'transformer.layer.3.ffn.lin2.bias', 'transformer.layer.3.ffn.lin2.weight', 'transformer.layer.3.output_layer_norm.bias', 'transformer.layer.3.output_layer_norm.weight', 'transformer.layer.3.sa_layer_norm.bias', 'transformer.layer.3.sa_layer_norm.weight', 'transformer.layer.4.attention.k_lin.bias', 'transformer.layer.4.attention.k_lin.weight', 'transformer.layer.4.attention.out_lin.bias', 'transformer.layer.4.attention.out_lin.weight', 'transformer.layer.4.attention.q_lin.bias', 'transformer.layer.4.attention.q_lin.weight', 'transformer.layer.4.attention.v_lin.bias', 'transformer.layer.4.attention.v_lin.weight', 'transformer.layer.4.ffn.lin1.bias', 'transformer.layer.4.ffn.lin1.weight', 'transformer.layer.4.ffn.lin2.bias', 'transformer.layer.4.ffn.lin2.weight', 'transformer.layer.4.output_layer_norm.bias', 'transformer.layer.4.output_layer_norm.weight', 'transformer.layer.4.sa_layer_norm.bias', 'transformer.layer.4.sa_layer_norm.weight', 'transformer.layer.5.attention.k_lin.bias', 'transformer.layer.5.attention.k_lin.weight', 'transformer.layer.5.attention.out_lin.bias', 'transformer.layer.5.attention.out_lin.weight', 'transformer.layer.5.attention.q_lin.bias', 'transformer.layer.5.attention.q_lin.weight', 'transformer.layer.5.attention.v_lin.bias', 'transformer.layer.5.attention.v_lin.weight', 'transformer.layer.5.ffn.lin1.bias', 'transformer.layer.5.ffn.lin1.weight', 'transformer.layer.5.ffn.lin2.bias', 'transformer.layer.5.ffn.lin2.weight', 'transformer.layer.5.output_layer_norm.bias', 'transformer.layer.5.output_layer_norm.weight', 'transformer.layer.5.sa_layer_norm.bias', 'transformer.layer.5.sa_layer_norm.weight']\n",
      "You should probably TRAIN this model on a down-stream task to be able to use it for predictions and inference.\n"
     ]
    }
   ],
   "source": [
    "trainer.save_model()\n",
    "\n",
    "tokenizer2 = AutoTokenizer.from_pretrained(\"./results\")\n",
    "model2 = AutoModelForSequenceClassification.from_pretrained(\"./results\", num_labels=6)\n",
    "\n",
    "pipe = TextClassificationPipeline(model=model2, tokenizer=tokenizer2) #, return_all_scores=True)\n",
    "\n",
    "# pipe(\"I love this place!\")\n",
    "# pipe(\"Paris was very disappointing\")"
   ]
  },
  {
   "cell_type": "markdown",
   "metadata": {},
   "source": [
    "### Evaluate Model Results"
   ]
  },
  {
   "cell_type": "code",
   "execution_count": 121,
   "metadata": {},
   "outputs": [],
   "source": [
    "def show_cm(cm, classes, figsize=(10, 10)):\n",
    "    # cm = np.array([[TP, FP], [FN, TN]])\n",
    "    plt.figure(figsize=figsize)\n",
    "    plt.imshow(cm)\n",
    "    plt.suptitle('Confusion matrix')\n",
    "    total = sum(sum(cm))\n",
    "    plt.title('Total cases: {}'.format(total))\n",
    "    plt.colorbar()\n",
    "    plt.ylabel('True label')\n",
    "    plt.xlabel('Predicted label')\n",
    "    tick_marks = np.arange(len(classes))\n",
    "    plt.xticks(tick_marks, classes)\n",
    "    plt.yticks(tick_marks, classes)\n",
    "\n",
    "    for i in range(len(classes)):\n",
    "        for j in range(len(classes)):\n",
    "            perc = round(cm[i, j] / total * 100, 1)\n",
    "            plt.text(j, i, f\"{format(cm[i, j], '.0f')} : {perc}%\", horizontalalignment=\"center\",\n",
    "                     color=\"black\" if cm[i, j] > cm.max() / 2 else \"white\")\n",
    "\n",
    "    plt.show()"
   ]
  },
  {
   "cell_type": "code",
   "execution_count": 122,
   "metadata": {},
   "outputs": [
    {
     "data": {
      "image/png": "[encoded data removed]",
      "text/plain": [
       "<Figure size 1000x1000 with 2 Axes>"
      ]
     },
     "metadata": {},
     "output_type": "display_data"
    },
    {
     "name": "stdout",
     "output_type": "stream",
     "text": [
      "Accuracy:  0.2565947242206235\n",
      "Precision:  0.06688578010000562\n",
      "Recall:  0.16288356452290878\n",
      "F1:  0.09148728526909981\n"
     ]
    },
    {
     "name": "stderr",
     "output_type": "stream",
     "text": [
      "/home/sparks/.local/lib/python3.10/site-packages/sklearn/metrics/_classification.py:1509: UndefinedMetricWarning: Precision is ill-defined and being set to 0.0 in labels with no predicted samples. Use `zero_division` parameter to control this behavior.\n",
      "  _warn_prf(average, modifier, f\"{metric.capitalize()} is\", len(result))\n"
     ]
    }
   ],
   "source": [
    "y_pred= []\n",
    "for p in tokenized_dataset['test']['text']:\n",
    "    ti = tokenizer2(p, return_tensors=\"pt\")\n",
    "    out = model2(**ti)\n",
    "    pred = torch.argmax(out.logits)\n",
    "    y_pred.append(pred)\n",
    "    \n",
    "y_test = tokenized_dataset['test']['label']\n",
    "\n",
    "show_cm(confusion_matrix(y_test, y_pred), label_map.keys())\n",
    "print('Accuracy: ', accuracy_score(y_test, y_pred))\n",
    "print('Precision: ', precision_score(y_test, y_pred, average='macro'))\n",
    "print('Recall: ', recall_score(y_test, y_pred, average='macro'))\n",
    "print('F1: ', f1_score(y_test, y_pred, average='macro'))"
   ]
  }
 ],
 "metadata": {
  "kernelspec": {
   "display_name": "Python 3",
   "language": "python",
   "name": "python3"
  },
  "language_info": {
   "codemirror_mode": {
    "name": "ipython",
    "version": 3
   },
   "file_extension": ".py",
   "mimetype": "text/x-python",
   "name": "python",
   "nbconvert_exporter": "python",
   "pygments_lexer": "ipython3",
   "version": "3.10.12"
  }
 },
 "nbformat": 4,
 "nbformat_minor": 2
}
