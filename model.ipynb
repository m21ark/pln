{
 "cells": [
  {
   "cell_type": "code",
   "execution_count": 2,
   "metadata": {},
   "outputs": [],
   "source": [
    "import pandas as pd\n",
    "from sklearn.model_selection import train_test_split\n",
    "from sklearn.feature_extraction.text import TfidfVectorizer\n",
    "from sklearn.svm import SVC\n",
    "from sklearn.metrics import classification_report"
   ]
  },
  {
   "cell_type": "code",
   "execution_count": 4,
   "metadata": {},
   "outputs": [
    {
     "name": "stdout",
     "output_type": "stream",
     "text": [
      "              precision    recall  f1-score   support\n",
      "\n",
      "       anger       0.96      0.60      0.74       251\n",
      "        fear       0.84      0.53      0.65       184\n",
      "         joy       0.67      0.95      0.78       571\n",
      "        love       0.84      0.25      0.38       109\n",
      "     sadness       0.80      0.88      0.84       477\n",
      "    surprise       0.95      0.28      0.43        76\n",
      "\n",
      "    accuracy                           0.76      1668\n",
      "   macro avg       0.84      0.58      0.64      1668\n",
      "weighted avg       0.79      0.76      0.74      1668\n",
      "\n"
     ]
    }
   ],
   "source": [
    "# Load the data\n",
    "data = pd.read_pickle('data.pkl')\n",
    "\n",
    "# Undersample 10% of the data\n",
    "data = data.sample(frac=0.02)\n",
    "\n",
    "# Split the data into training and testing sets\n",
    "X_train, X_test, y_train, y_test = train_test_split(data['text'], data['emotions'], test_size=0.2)\n",
    "\n",
    "# Create a TfidfVectorizer\n",
    "vectorizer = TfidfVectorizer()\n",
    "\n",
    "# Fit the vectorizer to the training data\n",
    "X_train = vectorizer.fit_transform(X_train)\n",
    "\n",
    "# Transform the test data\n",
    "X_test = vectorizer.transform(X_test)\n",
    "\n",
    "# Create a support vector classifier\n",
    "svc = SVC()\n",
    "\n",
    "# Fit the classifier to the training data\n",
    "svc.fit(X_train, y_train)\n",
    "\n",
    "# Make predictions\n",
    "y_pred = svc.predict(X_test)\n",
    "\n",
    "# Evaluate the model\n",
    "print(classification_report(y_test, y_pred))"
   ]
  }
 ],
 "metadata": {
  "kernelspec": {
   "display_name": "Python 3",
   "language": "python",
   "name": "python3"
  },
  "language_info": {
   "codemirror_mode": {
    "name": "ipython",
    "version": 3
   },
   "file_extension": ".py",
   "mimetype": "text/x-python",
   "name": "python",
   "nbconvert_exporter": "python",
   "pygments_lexer": "ipython3",
   "version": "3.10.11"
  }
 },
 "nbformat": 4,
 "nbformat_minor": 2
}
