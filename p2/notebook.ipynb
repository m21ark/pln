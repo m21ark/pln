{
 "cells": [
  {
   "cell_type": "markdown",
   "metadata": {},
   "source": [
    "# Notebook"
   ]
  },
  {
   "cell_type": "markdown",
   "metadata": {},
   "source": [
    "## Setting up"
   ]
  },
  {
   "cell_type": "code",
   "execution_count": 31,
   "metadata": {},
   "outputs": [],
   "source": [
    "import numpy as np\n",
    "import pandas as pd\n",
    "import torch\n",
    "import warnings\n",
    "\n",
    "from sklearn.metrics import confusion_matrix\n",
    "from sklearn.metrics import accuracy_score\n",
    "from sklearn.metrics import precision_score\n",
    "from sklearn.metrics import recall_score\n",
    "from sklearn.metrics import f1_score\n",
    "\n",
    "from datasets import Dataset\n",
    "from datasets import DatasetDict\n",
    "from datasets import load_metric\n",
    "\n",
    "from transformers import AutoTokenizer\n",
    "from transformers import AutoModel\n",
    "from transformers import AutoModelForSequenceClassification\n",
    "from transformers import TrainingArguments, Trainer\n",
    "from transformers import DataCollatorWithPadding\n",
    "from transformers import TextClassificationPipeline\n",
    "from transformers import pipeline\n",
    "\n",
    "# suppress FutureWarning\n",
    "warnings.simplefilter(action='ignore', category=FutureWarning)"
   ]
  },
  {
   "cell_type": "code",
   "execution_count": 32,
   "metadata": {},
   "outputs": [
    {
     "name": "stdout",
     "output_type": "stream",
     "text": [
      "(4168, 2)\n"
     ]
    },
    {
     "data": {
      "text/html": [
       "<div>\n",
       "<style scoped>\n",
       "    .dataframe tbody tr th:only-of-type {\n",
       "        vertical-align: middle;\n",
       "    }\n",
       "\n",
       "    .dataframe tbody tr th {\n",
       "        vertical-align: top;\n",
       "    }\n",
       "\n",
       "    .dataframe thead th {\n",
       "        text-align: right;\n",
       "    }\n",
       "</style>\n",
       "<table border=\"1\" class=\"dataframe\">\n",
       "  <thead>\n",
       "    <tr style=\"text-align: right;\">\n",
       "      <th></th>\n",
       "      <th>text</th>\n",
       "      <th>label</th>\n",
       "    </tr>\n",
       "  </thead>\n",
       "  <tbody>\n",
       "    <tr>\n",
       "      <th>98790</th>\n",
       "      <td>i wanted them to feel now i feel as though i a...</td>\n",
       "      <td>0</td>\n",
       "    </tr>\n",
       "    <tr>\n",
       "      <th>18398</th>\n",
       "      <td>i found myself feeling very sympathetic toward...</td>\n",
       "      <td>2</td>\n",
       "    </tr>\n",
       "    <tr>\n",
       "      <th>139349</th>\n",
       "      <td>ive been feeling pretty good today and tonight...</td>\n",
       "      <td>1</td>\n",
       "    </tr>\n",
       "    <tr>\n",
       "      <th>13416</th>\n",
       "      <td>i can use to cover my ass when i feel inadequate</td>\n",
       "      <td>0</td>\n",
       "    </tr>\n",
       "    <tr>\n",
       "      <th>22297</th>\n",
       "      <td>i feel like ive pissed myself again</td>\n",
       "      <td>3</td>\n",
       "    </tr>\n",
       "  </tbody>\n",
       "</table>\n",
       "</div>"
      ],
      "text/plain": [
       "                                                     text  label\n",
       "98790   i wanted them to feel now i feel as though i a...      0\n",
       "18398   i found myself feeling very sympathetic toward...      2\n",
       "139349  ive been feeling pretty good today and tonight...      1\n",
       "13416    i can use to cover my ass when i feel inadequate      0\n",
       "22297                 i feel like ive pissed myself again      3"
      ]
     },
     "execution_count": 32,
     "metadata": {},
     "output_type": "execute_result"
    }
   ],
   "source": [
    "df = pd.read_pickle(\"data/data_original.pkl\")\n",
    "\n",
    "# down sample data\n",
    "df = df.sample(frac=0.01, random_state=1)\n",
    "\n",
    "# rename emotions to label and map to integers\n",
    "df.rename(columns={'emotions':'label'}, inplace = True)\n",
    "label_map = {\"sadness\": 0, \"joy\": 1, \"love\": 2, \"anger\": 3, \"fear\": 4, \"surprise\": 5} \n",
    "df['label'] = df['label'].map(label_map)\n",
    "\n",
    "print(df.shape)\n",
    "df.head()"
   ]
  },
  {
   "cell_type": "code",
   "execution_count": 33,
   "metadata": {},
   "outputs": [
    {
     "name": "stdout",
     "output_type": "stream",
     "text": [
      "DatasetDict({\n",
      "    train: Dataset({\n",
      "        features: ['text', 'label', '__index_level_0__'],\n",
      "        num_rows: 3751\n",
      "    })\n",
      "    validation: Dataset({\n",
      "        features: ['text', 'label', '__index_level_0__'],\n",
      "        num_rows: 208\n",
      "    })\n",
      "    test: Dataset({\n",
      "        features: ['text', 'label', '__index_level_0__'],\n",
      "        num_rows: 209\n",
      "    })\n",
      "})\n"
     ]
    }
   ],
   "source": [
    "dataset = Dataset.from_pandas(df)\n",
    "\n",
    "# 90% train, 10% test+validation\n",
    "train_test = dataset.train_test_split(test_size=0.1)\n",
    "\n",
    "# Split the 10% test+validation set in half test, half validation\n",
    "valid_test = train_test['test'].train_test_split(test_size=0.5)\n",
    "\n",
    "# gather everyone if you want to have a single DatasetDict\n",
    "train_valid_test_dataset = DatasetDict({\n",
    "    'train': train_test['train'],\n",
    "    'validation': valid_test['train'],\n",
    "    'test': valid_test['test']\n",
    "})\n",
    "\n",
    "print(train_valid_test_dataset)"
   ]
  },
  {
   "cell_type": "markdown",
   "metadata": {},
   "source": [
    "## Fine-tuning a pre-trained Hugging Face model"
   ]
  },
  {
   "cell_type": "markdown",
   "metadata": {},
   "source": [
    "We need to load:\n",
    "- the pre-trained model itself\n",
    "- the tokenizer associated with the model (used to preprocess the data)"
   ]
  },
  {
   "cell_type": "code",
   "execution_count": 34,
   "metadata": {},
   "outputs": [
    {
     "name": "stderr",
     "output_type": "stream",
     "text": [
      "Some weights of DistilBertForSequenceClassification were not initialized from the model checkpoint at distilbert-base-uncased and are newly initialized: ['classifier.bias', 'classifier.weight', 'pre_classifier.bias', 'pre_classifier.weight']\n",
      "You should probably TRAIN this model on a down-stream task to be able to use it for predictions and inference.\n"
     ]
    }
   ],
   "source": [
    "model_name = \"distilbert-base-uncased\" # bert-base-uncased\n",
    "\n",
    "model = AutoModelForSequenceClassification.from_pretrained(model_name, num_labels=6)\n",
    "tokenizer = AutoTokenizer.from_pretrained(model_name)"
   ]
  },
  {
   "cell_type": "markdown",
   "metadata": {},
   "source": [
    "### Pre-processing the data with the tokenizer"
   ]
  },
  {
   "cell_type": "code",
   "execution_count": 35,
   "metadata": {},
   "outputs": [
    {
     "data": {
      "application/vnd.jupyter.widget-view+json": {
       "model_id": "594591fce91b4e19be569d3f20a16fe5",
       "version_major": 2,
       "version_minor": 0
      },
      "text/plain": [
       "Map:   0%|          | 0/3751 [00:00<?, ? examples/s]"
      ]
     },
     "metadata": {},
     "output_type": "display_data"
    },
    {
     "data": {
      "application/vnd.jupyter.widget-view+json": {
       "model_id": "f4bd2a814d1c49ff9b79607b75ee9954",
       "version_major": 2,
       "version_minor": 0
      },
      "text/plain": [
       "Map:   0%|          | 0/208 [00:00<?, ? examples/s]"
      ]
     },
     "metadata": {},
     "output_type": "display_data"
    },
    {
     "data": {
      "application/vnd.jupyter.widget-view+json": {
       "model_id": "dfa3ee1d99b443398ed3c32f0cbb7c26",
       "version_major": 2,
       "version_minor": 0
      },
      "text/plain": [
       "Map:   0%|          | 0/209 [00:00<?, ? examples/s]"
      ]
     },
     "metadata": {},
     "output_type": "display_data"
    },
    {
     "name": "stdout",
     "output_type": "stream",
     "text": [
      "DatasetDict({\n",
      "    train: Dataset({\n",
      "        features: ['text', 'label', '__index_level_0__', 'input_ids', 'attention_mask'],\n",
      "        num_rows: 3751\n",
      "    })\n",
      "    validation: Dataset({\n",
      "        features: ['text', 'label', '__index_level_0__', 'input_ids', 'attention_mask'],\n",
      "        num_rows: 208\n",
      "    })\n",
      "    test: Dataset({\n",
      "        features: ['text', 'label', '__index_level_0__', 'input_ids', 'attention_mask'],\n",
      "        num_rows: 209\n",
      "    })\n",
      "})\n"
     ]
    }
   ],
   "source": [
    "def preprocess_function(sample):\n",
    "    return tokenizer(sample[\"text\"], padding=True, truncation=True, return_tensors=\"pt\")\n",
    "\n",
    "tokenized_dataset = train_valid_test_dataset.map(preprocess_function, batched=True)\n",
    "\n",
    "print(tokenized_dataset)"
   ]
  },
  {
   "cell_type": "markdown",
   "metadata": {},
   "source": [
    "The preprocessing transforms the data into a format that the model can understand. The model then processes the data to make predictions. This is known as **encoding**. Encoding is done in a two-step process: tokenization, followed by conversion to input IDs."
   ]
  },
  {
   "cell_type": "code",
   "execution_count": 36,
   "metadata": {},
   "outputs": [
    {
     "name": "stdout",
     "output_type": "stream",
     "text": [
      "{'text': 'i am today and although its been messy and nasty at times i feel its been worthwhile', 'label': 1, '__index_level_0__': 12053, 'input_ids': [101, 1045, 2572, 2651, 1998, 2348, 2049, 2042, 18307, 1998, 11808, 2012, 2335, 1045, 2514, 2049, 2042, 4276, 19927, 102, 0, 0, 0, 0, 0, 0, 0, 0, 0, 0, 0, 0, 0, 0, 0, 0, 0, 0, 0, 0, 0, 0, 0, 0, 0, 0, 0, 0, 0, 0, 0, 0, 0, 0, 0, 0, 0, 0, 0, 0, 0, 0, 0, 0, 0, 0, 0, 0, 0, 0, 0, 0], 'attention_mask': [1, 1, 1, 1, 1, 1, 1, 1, 1, 1, 1, 1, 1, 1, 1, 1, 1, 1, 1, 1, 0, 0, 0, 0, 0, 0, 0, 0, 0, 0, 0, 0, 0, 0, 0, 0, 0, 0, 0, 0, 0, 0, 0, 0, 0, 0, 0, 0, 0, 0, 0, 0, 0, 0, 0, 0, 0, 0, 0, 0, 0, 0, 0, 0, 0, 0, 0, 0, 0, 0, 0, 0]}\n",
      "['i', 'am', 'today', 'and', 'although', 'its', 'been', 'messy', 'and', 'nasty', 'at', 'times', 'i', 'feel', 'its', 'been', 'worth', '##while']\n",
      "[1045, 2572, 2651, 1998, 2348, 2049, 2042, 18307, 1998, 11808, 2012, 2335, 1045, 2514, 2049, 2042, 4276, 19927]\n"
     ]
    }
   ],
   "source": [
    "print(tokenized_dataset['train'][321])\n",
    "tokens = tokenizer.tokenize(tokenized_dataset['train'][321]['text'])\n",
    "print(tokens)\n",
    "ids = tokenizer.convert_tokens_to_ids(tokens)\n",
    "print(ids)"
   ]
  },
  {
   "cell_type": "markdown",
   "metadata": {},
   "source": [
    "### Model training (Fine-tuning)"
   ]
  },
  {
   "cell_type": "code",
   "execution_count": 37,
   "metadata": {},
   "outputs": [
    {
     "name": "stdout",
     "output_type": "stream",
     "text": [
      "tensor([[0.1512, 0.1698, 0.1898, 0.1465, 0.1934, 0.1494]],\n",
      "       grad_fn=<SoftmaxBackward0>)\n",
      "Predicted class: fear\n"
     ]
    }
   ],
   "source": [
    "def predict(text):\n",
    "    global model, tokenizer\n",
    "    inputs = tokenizer(text, return_tensors=\"pt\")\n",
    "    outputs = model(**inputs)\n",
    "    predictions = torch.nn.functional.softmax(outputs.logits, dim=1)\n",
    "    print(predictions)\n",
    "    predicted_class = torch.argmax(predictions)\n",
    "    name = [i for i, j in label_map.items() if j == predicted_class.item()][0]\n",
    "    print(f\"Predicted class: {name}\")\n",
    "    \n",
    "predict(\"I'm so sad\")"
   ]
  },
  {
   "cell_type": "code",
   "execution_count": 38,
   "metadata": {},
   "outputs": [],
   "source": [
    "metric = load_metric(\"accuracy\")\n",
    "\n",
    "def compute_metrics(eval_pred):\n",
    "    logits, labels = eval_pred\n",
    "    predictions = np.argmax(logits, axis=-1)\n",
    "    return metric.compute(predictions=predictions, references=labels)\n",
    "\n",
    "training_args = TrainingArguments(\n",
    "    output_dir=\"./results\",\n",
    "    learning_rate=2e-5,\n",
    "    per_device_train_batch_size=16,\n",
    "    per_device_eval_batch_size=16,\n",
    "    num_train_epochs=3,\n",
    "    weight_decay=0.01,\n",
    "    evaluation_strategy=\"epoch\",\n",
    "    save_strategy=\"epoch\",\n",
    "    load_best_model_at_end=True,\n",
    ")\n",
    "\n",
    "data_collator = DataCollatorWithPadding(tokenizer=tokenizer)\n",
    "\n",
    "trainer = Trainer(\n",
    "    model=model,\n",
    "    args=training_args,\n",
    "    train_dataset=tokenized_dataset[\"train\"],\n",
    "    eval_dataset=tokenized_dataset[\"validation\"],\n",
    "    tokenizer=tokenizer,\n",
    "    data_collator=data_collator,\n",
    "    compute_metrics=compute_metrics\n",
    ")"
   ]
  },
  {
   "cell_type": "code",
   "execution_count": 39,
   "metadata": {},
   "outputs": [
    {
     "data": {
      "application/vnd.jupyter.widget-view+json": {
       "model_id": "c52a372beb3743a19fb3b3423ef74815",
       "version_major": 2,
       "version_minor": 0
      },
      "text/plain": [
       "  0%|          | 0/705 [00:00<?, ?it/s]"
      ]
     },
     "metadata": {},
     "output_type": "display_data"
    },
    {
     "data": {
      "application/vnd.jupyter.widget-view+json": {
       "model_id": "2f7ae878bb9042a7b328c89d08c8d111",
       "version_major": 2,
       "version_minor": 0
      },
      "text/plain": [
       "  0%|          | 0/13 [00:00<?, ?it/s]"
      ]
     },
     "metadata": {},
     "output_type": "display_data"
    },
    {
     "name": "stdout",
     "output_type": "stream",
     "text": [
      "{'eval_loss': 0.6293045282363892, 'eval_accuracy': 0.8076923076923077, 'eval_runtime': 5.6286, 'eval_samples_per_second': 36.954, 'eval_steps_per_second': 2.31, 'epoch': 1.0}\n"
     ]
    },
    {
     "data": {
      "application/vnd.jupyter.widget-view+json": {
       "model_id": "b8c33e63925f47ad92ceef24f91e950e",
       "version_major": 2,
       "version_minor": 0
      },
      "text/plain": [
       "  0%|          | 0/13 [00:00<?, ?it/s]"
      ]
     },
     "metadata": {},
     "output_type": "display_data"
    },
    {
     "name": "stdout",
     "output_type": "stream",
     "text": [
      "{'eval_loss': 0.3881596028804779, 'eval_accuracy': 0.8846153846153846, 'eval_runtime': 5.936, 'eval_samples_per_second': 35.041, 'eval_steps_per_second': 2.19, 'epoch': 2.0}\n",
      "{'loss': 0.7396, 'grad_norm': 2.6462337970733643, 'learning_rate': 5.815602836879432e-06, 'epoch': 2.13}\n"
     ]
    },
    {
     "data": {
      "application/vnd.jupyter.widget-view+json": {
       "model_id": "5fdf9e1ea2bb493da5dc99c4a89785a0",
       "version_major": 2,
       "version_minor": 0
      },
      "text/plain": [
       "  0%|          | 0/13 [00:00<?, ?it/s]"
      ]
     },
     "metadata": {},
     "output_type": "display_data"
    },
    {
     "name": "stdout",
     "output_type": "stream",
     "text": [
      "{'eval_loss': 0.35088875889778137, 'eval_accuracy': 0.8894230769230769, 'eval_runtime': 6.0916, 'eval_samples_per_second': 34.145, 'eval_steps_per_second': 2.134, 'epoch': 3.0}\n",
      "{'train_runtime': 1387.5924, 'train_samples_per_second': 8.11, 'train_steps_per_second': 0.508, 'train_loss': 0.5906700729478336, 'epoch': 3.0}\n"
     ]
    },
    {
     "data": {
      "text/plain": [
       "TrainOutput(global_step=705, training_loss=0.5906700729478336, metrics={'train_runtime': 1387.5924, 'train_samples_per_second': 8.11, 'train_steps_per_second': 0.508, 'train_loss': 0.5906700729478336, 'epoch': 3.0})"
      ]
     },
     "execution_count": 39,
     "metadata": {},
     "output_type": "execute_result"
    }
   ],
   "source": [
    "trainer.train()"
   ]
  },
  {
   "cell_type": "code",
   "execution_count": 40,
   "metadata": {},
   "outputs": [
    {
     "data": {
      "application/vnd.jupyter.widget-view+json": {
       "model_id": "272f3e14e30f4b2f9c8e07d85d7345f8",
       "version_major": 2,
       "version_minor": 0
      },
      "text/plain": [
       "  0%|          | 0/13 [00:00<?, ?it/s]"
      ]
     },
     "metadata": {},
     "output_type": "display_data"
    },
    {
     "data": {
      "text/plain": [
       "{'eval_loss': 0.35088875889778137,\n",
       " 'eval_accuracy': 0.8894230769230769,\n",
       " 'eval_runtime': 5.9837,\n",
       " 'eval_samples_per_second': 34.761,\n",
       " 'eval_steps_per_second': 2.173,\n",
       " 'epoch': 3.0}"
      ]
     },
     "execution_count": 40,
     "metadata": {},
     "output_type": "execute_result"
    }
   ],
   "source": [
    "trainer.evaluate()"
   ]
  },
  {
   "cell_type": "code",
   "execution_count": 41,
   "metadata": {},
   "outputs": [
    {
     "data": {
      "application/vnd.jupyter.widget-view+json": {
       "model_id": "a419d24bf53d4f8b861c2b582b307465",
       "version_major": 2,
       "version_minor": 0
      },
      "text/plain": [
       "  0%|          | 0/14 [00:00<?, ?it/s]"
      ]
     },
     "metadata": {},
     "output_type": "display_data"
    },
    {
     "data": {
      "text/plain": [
       "PredictionOutput(predictions=array([[ 4.524358  , -1.0213351 , -1.2203786 , -0.6296568 , -0.8963616 ,\n",
       "        -1.5222168 ],\n",
       "       [ 0.28062665, -0.8328911 , -0.8364359 ,  3.884433  , -0.99547154,\n",
       "        -1.7395878 ],\n",
       "       [-0.32302445, -1.4956123 , -1.5812507 , -0.9422427 ,  3.411387  ,\n",
       "         0.24380717],\n",
       "       ...,\n",
       "       [-1.6013496 ,  3.419962  ,  1.2195495 , -1.649142  , -2.2356763 ,\n",
       "        -1.3491142 ],\n",
       "       [ 3.1103868 , -0.05479916, -1.3691216 ,  0.03162865, -0.83487964,\n",
       "        -1.7870898 ],\n",
       "       [-0.11887605, -0.7707486 , -0.9350333 ,  3.9928396 , -0.9128882 ,\n",
       "        -1.7485352 ]], dtype=float32), label_ids=array([0, 3, 4, 1, 0, 4, 1, 1, 4, 1, 1, 4, 0, 0, 0, 4, 1, 1, 0, 2, 2, 0,\n",
       "       0, 0, 1, 3, 1, 0, 4, 4, 1, 4, 1, 1, 3, 2, 1, 4, 0, 0, 0, 2, 1, 1,\n",
       "       0, 0, 2, 0, 0, 2, 1, 0, 1, 0, 5, 4, 0, 1, 1, 1, 0, 2, 1, 1, 1, 3,\n",
       "       3, 2, 0, 1, 1, 2, 3, 1, 0, 3, 3, 2, 2, 0, 0, 1, 3, 1, 4, 2, 0, 0,\n",
       "       1, 1, 0, 1, 1, 1, 0, 0, 3, 3, 3, 2, 5, 3, 3, 1, 1, 3, 1, 3, 4, 1,\n",
       "       0, 1, 1, 1, 4, 5, 3, 0, 5, 0, 3, 4, 1, 1, 1, 2, 3, 1, 1, 0, 1, 0,\n",
       "       5, 1, 0, 0, 2, 0, 0, 1, 0, 1, 0, 0, 0, 0, 0, 1, 0, 4, 0, 0, 3, 4,\n",
       "       0, 2, 1, 1, 0, 1, 3, 2, 0, 4, 0, 3, 0, 0, 1, 1, 1, 1, 2, 2, 5, 4,\n",
       "       3, 1, 1, 1, 4, 1, 5, 1, 0, 1, 3, 1, 0, 5, 2, 1, 3, 3, 1, 1, 1, 0,\n",
       "       0, 1, 1, 0, 0, 0, 2, 2, 1, 0, 3]), metrics={'test_loss': 0.34556615352630615, 'test_accuracy': 0.9043062200956937, 'test_runtime': 5.8024, 'test_samples_per_second': 36.02, 'test_steps_per_second': 2.413})"
      ]
     },
     "execution_count": 41,
     "metadata": {},
     "output_type": "execute_result"
    }
   ],
   "source": [
    "trainer.predict(test_dataset=tokenized_dataset[\"test\"])"
   ]
  },
  {
   "cell_type": "markdown",
   "metadata": {},
   "source": [
    "### Save & Load Model"
   ]
  },
  {
   "cell_type": "code",
   "execution_count": 42,
   "metadata": {},
   "outputs": [],
   "source": [
    "trainer.save_model()\n",
    "\n",
    "tokenizer2 = AutoTokenizer.from_pretrained(\"./results\")\n",
    "model2 = AutoModelForSequenceClassification.from_pretrained(\"./results\", num_labels=6)\n",
    "\n",
    "pipe = TextClassificationPipeline(model=model2, tokenizer=tokenizer2) #, return_all_scores=True)"
   ]
  },
  {
   "cell_type": "code",
   "execution_count": 43,
   "metadata": {},
   "outputs": [
    {
     "data": {
      "text/plain": [
       "[{'label': 'LABEL_2', 'score': 0.5717018246650696}]"
      ]
     },
     "execution_count": 43,
     "metadata": {},
     "output_type": "execute_result"
    }
   ],
   "source": [
    "pipe(\"I love this place!\")"
   ]
  },
  {
   "cell_type": "code",
   "execution_count": 44,
   "metadata": {},
   "outputs": [
    {
     "data": {
      "text/plain": [
       "[{'label': 'LABEL_0', 'score': 0.9713153839111328}]"
      ]
     },
     "execution_count": 44,
     "metadata": {},
     "output_type": "execute_result"
    }
   ],
   "source": [
    "pipe(\"Paris was very disappointing\")"
   ]
  },
  {
   "cell_type": "markdown",
   "metadata": {},
   "source": [
    "### Evaluate Model Results"
   ]
  },
  {
   "cell_type": "code",
   "execution_count": 45,
   "metadata": {},
   "outputs": [
    {
     "name": "stdout",
     "output_type": "stream",
     "text": [
      "[[61  0  0  1  0  0]\n",
      " [ 0 68  2  1  0  0]\n",
      " [ 3  2 16  1  0  0]\n",
      " [ 3  0  0 22  2  0]\n",
      " [ 1  0  0  0 17  1]\n",
      " [ 0  0  0  0  3  5]]\n",
      "Accuracy:  0.9043062200956937\n",
      "Precision:  0.8739061483179129\n",
      "Recall:  0.83390697180133\n",
      "F1:  0.8487847331127041\n"
     ]
    }
   ],
   "source": [
    "y_pred= []\n",
    "for p in tokenized_dataset['test']['text']:\n",
    "    ti = tokenizer2(p, return_tensors=\"pt\")\n",
    "    out = model2(**ti)\n",
    "    pred = torch.argmax(out.logits)\n",
    "    y_pred.append(pred)   # our labels are already 0 and 1\n",
    "    \n",
    "y_test = tokenized_dataset['test']['label']\n",
    "\n",
    "print(confusion_matrix(y_test, y_pred))\n",
    "print('Accuracy: ', accuracy_score(y_test, y_pred))\n",
    "print('Precision: ', precision_score(y_test, y_pred, average='macro'))\n",
    "print('Recall: ', recall_score(y_test, y_pred, average='macro'))\n",
    "print('F1: ', f1_score(y_test, y_pred, average='macro'))"
   ]
  }
 ],
 "metadata": {
  "kernelspec": {
   "display_name": "Python 3",
   "language": "python",
   "name": "python3"
  },
  "language_info": {
   "codemirror_mode": {
    "name": "ipython",
    "version": 3
   },
   "file_extension": ".py",
   "mimetype": "text/x-python",
   "name": "python",
   "nbconvert_exporter": "python",
   "pygments_lexer": "ipython3",
   "version": "3.10.12"
  }
 },
 "nbformat": 4,
 "nbformat_minor": 2
}
