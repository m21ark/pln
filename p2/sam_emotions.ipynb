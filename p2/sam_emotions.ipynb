{
 "cells": [
  {
   "cell_type": "markdown",
   "metadata": {},
   "source": [
    "# Notebook"
   ]
  },
  {
   "cell_type": "markdown",
   "metadata": {},
   "source": [
    "## Setting up"
   ]
  },
  {
   "cell_type": "code",
   "execution_count": 19,
   "metadata": {},
   "outputs": [],
   "source": [
    "import matplotlib.pyplot as plt\n",
    "import numpy as np\n",
    "import pandas as pd\n",
    "import warnings\n",
    "\n",
    "from sklearn.metrics import confusion_matrix\n",
    "from sklearn.metrics import accuracy_score\n",
    "from sklearn.metrics import precision_score\n",
    "from sklearn.metrics import recall_score\n",
    "from sklearn.metrics import f1_score\n",
    "\n",
    "from transformers import pipeline\n",
    "\n",
    "# suppress FutureWarning\n",
    "warnings.simplefilter(action='ignore', category=FutureWarning)"
   ]
  },
  {
   "cell_type": "code",
   "execution_count": 20,
   "metadata": {},
   "outputs": [
    {
     "name": "stdout",
     "output_type": "stream",
     "text": [
      "(20840, 2)\n"
     ]
    },
    {
     "data": {
      "text/html": [
       "<div>\n",
       "<style scoped>\n",
       "    .dataframe tbody tr th:only-of-type {\n",
       "        vertical-align: middle;\n",
       "    }\n",
       "\n",
       "    .dataframe tbody tr th {\n",
       "        vertical-align: top;\n",
       "    }\n",
       "\n",
       "    .dataframe thead th {\n",
       "        text-align: right;\n",
       "    }\n",
       "</style>\n",
       "<table border=\"1\" class=\"dataframe\">\n",
       "  <thead>\n",
       "    <tr style=\"text-align: right;\">\n",
       "      <th></th>\n",
       "      <th>text</th>\n",
       "      <th>label</th>\n",
       "    </tr>\n",
       "  </thead>\n",
       "  <tbody>\n",
       "    <tr>\n",
       "      <th>98790</th>\n",
       "      <td>i wanted them to feel now i feel as though i a...</td>\n",
       "      <td>0</td>\n",
       "    </tr>\n",
       "    <tr>\n",
       "      <th>18398</th>\n",
       "      <td>i found myself feeling very sympathetic toward...</td>\n",
       "      <td>2</td>\n",
       "    </tr>\n",
       "    <tr>\n",
       "      <th>139349</th>\n",
       "      <td>ive been feeling pretty good today and tonight...</td>\n",
       "      <td>1</td>\n",
       "    </tr>\n",
       "    <tr>\n",
       "      <th>13416</th>\n",
       "      <td>i can use to cover my ass when i feel inadequate</td>\n",
       "      <td>0</td>\n",
       "    </tr>\n",
       "    <tr>\n",
       "      <th>22297</th>\n",
       "      <td>i feel like ive pissed myself again</td>\n",
       "      <td>3</td>\n",
       "    </tr>\n",
       "  </tbody>\n",
       "</table>\n",
       "</div>"
      ],
      "text/plain": [
       "                                                     text  label\n",
       "98790   i wanted them to feel now i feel as though i a...      0\n",
       "18398   i found myself feeling very sympathetic toward...      2\n",
       "139349  ive been feeling pretty good today and tonight...      1\n",
       "13416    i can use to cover my ass when i feel inadequate      0\n",
       "22297                 i feel like ive pissed myself again      3"
      ]
     },
     "execution_count": 20,
     "metadata": {},
     "output_type": "execute_result"
    }
   ],
   "source": [
    "df = pd.read_pickle(\"data/data_original.pkl\")\n",
    "\n",
    "down_sample_percentage = 5\n",
    "\n",
    "# down sample data\n",
    "df = df.sample(frac=down_sample_percentage/100, random_state=1)\n",
    "\n",
    "# rename emotions to label and map to integers\n",
    "df.rename(columns={'emotions':'label'}, inplace = True)\n",
    "label_map = {\"sadness\": 0, \"joy\": 1, \"love\": 2, \"anger\": 3, \"fear\": 4, \"surprise\": 5} \n",
    "df['label'] = df['label'].map(label_map)\n",
    "\n",
    "print(df.shape)\n",
    "df.head()"
   ]
  },
  {
   "cell_type": "code",
   "execution_count": 21,
   "metadata": {},
   "outputs": [],
   "source": [
    "model_name = \"SamLowe/roberta-base-go_emotions\"\n",
    "\n",
    "\n",
    "classifier = pipeline(task=\"text-classification\", model=model_name, top_k=None)\n",
    "\n",
    "# taking the first of the 28 labels that is present in our 6 emotion labels (highest probability)\n",
    "def guessEmotion(sentence):\n",
    "    model_outputs = classifier([sentence])[0]\n",
    "    for emotion in model_outputs:\n",
    "        if emotion['label'] in label_map:\n",
    "            return emotion['label']\n",
    "\n",
    "def show_cm(cm, classes, figsize=(10, 10)):\n",
    "    # cm = np.array([[TP, FP], [FN, TN]])\n",
    "    plt.figure(figsize=figsize)\n",
    "    plt.imshow(cm)\n",
    "    plt.suptitle('Confusion matrix')\n",
    "    total = sum(sum(cm))\n",
    "    plt.title('Total cases: {}'.format(total))\n",
    "    plt.colorbar()\n",
    "    plt.ylabel('True label')\n",
    "    plt.xlabel('Predicted label')\n",
    "    tick_marks = np.arange(len(classes))\n",
    "    plt.xticks(tick_marks, classes)\n",
    "    plt.yticks(tick_marks, classes)\n",
    "\n",
    "    for i in range(len(classes)):\n",
    "        for j in range(len(classes)):\n",
    "            perc = round(cm[i, j] / total * 100, 1)\n",
    "            plt.text(j, i, f\"{format(cm[i, j], '.0f')} : {perc}%\", horizontalalignment=\"center\",\n",
    "                     color=\"black\" if cm[i, j] > cm.max() / 2 else \"white\")\n",
    "\n",
    "    plt.show()"
   ]
  },
  {
   "cell_type": "code",
   "execution_count": 22,
   "metadata": {},
   "outputs": [],
   "source": [
    "# make predictions on the test set\n",
    "df['predicted'] = df['text'].apply(guessEmotion)\n",
    "df['predicted'] = df['predicted'].map(label_map)"
   ]
  },
  {
   "cell_type": "code",
   "execution_count": 23,
   "metadata": {},
   "outputs": [
    {
     "data": {
      "text/html": [
       "<div>\n",
       "<style scoped>\n",
       "    .dataframe tbody tr th:only-of-type {\n",
       "        vertical-align: middle;\n",
       "    }\n",
       "\n",
       "    .dataframe tbody tr th {\n",
       "        vertical-align: top;\n",
       "    }\n",
       "\n",
       "    .dataframe thead th {\n",
       "        text-align: right;\n",
       "    }\n",
       "</style>\n",
       "<table border=\"1\" class=\"dataframe\">\n",
       "  <thead>\n",
       "    <tr style=\"text-align: right;\">\n",
       "      <th></th>\n",
       "      <th>text</th>\n",
       "      <th>label</th>\n",
       "      <th>predicted</th>\n",
       "    </tr>\n",
       "  </thead>\n",
       "  <tbody>\n",
       "    <tr>\n",
       "      <th>98790</th>\n",
       "      <td>i wanted them to feel now i feel as though i a...</td>\n",
       "      <td>0</td>\n",
       "      <td>0</td>\n",
       "    </tr>\n",
       "    <tr>\n",
       "      <th>18398</th>\n",
       "      <td>i found myself feeling very sympathetic toward...</td>\n",
       "      <td>2</td>\n",
       "      <td>2</td>\n",
       "    </tr>\n",
       "    <tr>\n",
       "      <th>139349</th>\n",
       "      <td>ive been feeling pretty good today and tonight...</td>\n",
       "      <td>1</td>\n",
       "      <td>0</td>\n",
       "    </tr>\n",
       "    <tr>\n",
       "      <th>13416</th>\n",
       "      <td>i can use to cover my ass when i feel inadequate</td>\n",
       "      <td>0</td>\n",
       "      <td>0</td>\n",
       "    </tr>\n",
       "    <tr>\n",
       "      <th>22297</th>\n",
       "      <td>i feel like ive pissed myself again</td>\n",
       "      <td>3</td>\n",
       "      <td>4</td>\n",
       "    </tr>\n",
       "  </tbody>\n",
       "</table>\n",
       "</div>"
      ],
      "text/plain": [
       "                                                     text  label  predicted\n",
       "98790   i wanted them to feel now i feel as though i a...      0          0\n",
       "18398   i found myself feeling very sympathetic toward...      2          2\n",
       "139349  ive been feeling pretty good today and tonight...      1          0\n",
       "13416    i can use to cover my ass when i feel inadequate      0          0\n",
       "22297                 i feel like ive pissed myself again      3          4"
      ]
     },
     "execution_count": 23,
     "metadata": {},
     "output_type": "execute_result"
    }
   ],
   "source": [
    "df.head()"
   ]
  },
  {
   "cell_type": "code",
   "execution_count": 24,
   "metadata": {},
   "outputs": [
    {
     "name": "stdout",
     "output_type": "stream",
     "text": [
      "Accuracy: 0.5607485604606526\n",
      "Precision: 0.505751154248805\n",
      "Recall: 0.4794437331250774\n",
      "F1: 0.484747642869138\n"
     ]
    },
    {
     "data": {
      "image/png": "[encoded data removed]",
      "text/plain": [
       "<Figure size 720x720 with 2 Axes>"
      ]
     },
     "metadata": {
      "needs_background": "light"
     },
     "output_type": "display_data"
    }
   ],
   "source": [
    "# compare predicted and true labels, calculate accuracy, precision, recall, f1 and confusion matrix\n",
    "accuracy = accuracy_score(df['label'], df['predicted'])\n",
    "precision = precision_score(df['label'], df['predicted'], average='macro')\n",
    "recall = recall_score(df['label'], df['predicted'], average='macro')\n",
    "f1 = f1_score(df['label'], df['predicted'], average='macro')\n",
    "confusion = confusion_matrix(df['label'], df['predicted'])\n",
    "\n",
    "print(f\"Accuracy: {accuracy}\")\n",
    "print(f\"Precision: {precision}\")\n",
    "print(f\"Recall: {recall}\")\n",
    "print(f\"F1: {f1}\")\n",
    "show_cm(confusion, label_map.keys())"
   ]
  },
  {
   "cell_type": "code",
   "execution_count": 25,
   "metadata": {},
   "outputs": [
    {
     "name": "stdout",
     "output_type": "stream",
     "text": [
      "Emotion: sadness\n",
      "Accuracy: 0.745\n",
      "Precision: 0.167\n",
      "Recall: 0.124\n",
      "F1: 0.142\n",
      "\n",
      "Emotion: joy\n",
      "Accuracy: 0.59\n",
      "Precision: 0.167\n",
      "Recall: 0.098\n",
      "F1: 0.124\n",
      "\n",
      "Emotion: love\n",
      "Accuracy: 0.348\n",
      "Precision: 0.167\n",
      "Recall: 0.058\n",
      "F1: 0.086\n",
      "\n",
      "Emotion: anger\n",
      "Accuracy: 0.386\n",
      "Precision: 0.167\n",
      "Recall: 0.064\n",
      "F1: 0.093\n",
      "\n",
      "Emotion: fear\n",
      "Accuracy: 0.416\n",
      "Precision: 0.167\n",
      "Recall: 0.069\n",
      "F1: 0.098\n",
      "\n",
      "Emotion: surprise\n",
      "Accuracy: 0.391\n",
      "Precision: 0.167\n",
      "Recall: 0.065\n",
      "F1: 0.094\n",
      "\n"
     ]
    },
    {
     "name": "stderr",
     "output_type": "stream",
     "text": [
      "/home/m/.local/lib/python3.10/site-packages/sklearn/metrics/_classification.py:1509: UndefinedMetricWarning: Recall is ill-defined and being set to 0.0 in labels with no true samples. Use `zero_division` parameter to control this behavior.\n",
      "  _warn_prf(average, modifier, f\"{metric.capitalize()} is\", len(result))\n",
      "/home/m/.local/lib/python3.10/site-packages/sklearn/metrics/_classification.py:1509: UndefinedMetricWarning: Recall is ill-defined and being set to 0.0 in labels with no true samples. Use `zero_division` parameter to control this behavior.\n",
      "  _warn_prf(average, modifier, f\"{metric.capitalize()} is\", len(result))\n",
      "/home/m/.local/lib/python3.10/site-packages/sklearn/metrics/_classification.py:1509: UndefinedMetricWarning: Recall is ill-defined and being set to 0.0 in labels with no true samples. Use `zero_division` parameter to control this behavior.\n",
      "  _warn_prf(average, modifier, f\"{metric.capitalize()} is\", len(result))\n",
      "/home/m/.local/lib/python3.10/site-packages/sklearn/metrics/_classification.py:1509: UndefinedMetricWarning: Recall is ill-defined and being set to 0.0 in labels with no true samples. Use `zero_division` parameter to control this behavior.\n",
      "  _warn_prf(average, modifier, f\"{metric.capitalize()} is\", len(result))\n",
      "/home/m/.local/lib/python3.10/site-packages/sklearn/metrics/_classification.py:1509: UndefinedMetricWarning: Recall is ill-defined and being set to 0.0 in labels with no true samples. Use `zero_division` parameter to control this behavior.\n",
      "  _warn_prf(average, modifier, f\"{metric.capitalize()} is\", len(result))\n",
      "/home/m/.local/lib/python3.10/site-packages/sklearn/metrics/_classification.py:1509: UndefinedMetricWarning: Recall is ill-defined and being set to 0.0 in labels with no true samples. Use `zero_division` parameter to control this behavior.\n",
      "  _warn_prf(average, modifier, f\"{metric.capitalize()} is\", len(result))\n"
     ]
    }
   ],
   "source": [
    "# display individual accuracy, precision, recall and f1 for each emotion\n",
    "for emotion in label_map.keys():\n",
    "    accuracy = accuracy_score(df[df['label'] == label_map[emotion]]['label'], df[df['label'] == label_map[emotion]]['predicted'])\n",
    "    precision = precision_score(df[df['label'] == label_map[emotion]]['label'], df[df['label'] == label_map[emotion]]['predicted'], average='macro')\n",
    "    recall = recall_score(df[df['label'] == label_map[emotion]]['label'], df[df['label'] == label_map[emotion]]['predicted'], average='macro')\n",
    "    f1 = f1_score(df[df['label'] == label_map[emotion]]['label'], df[df['label'] == label_map[emotion]]['predicted'], average='macro')\n",
    "    print(f\"Emotion: {emotion}\")\n",
    "    print(f\"Accuracy: {round(accuracy, 3)}\")\n",
    "    print(f\"Precision: {round(precision, 3)}\")\n",
    "    print(f\"Recall: {round(recall, 3)}\")\n",
    "    print(f\"F1: {round(f1, 3)}\")\n",
    "    print()\n",
    "    "
   ]
  }
 ],
 "metadata": {
  "kernelspec": {
   "display_name": "Python 3",
   "language": "python",
   "name": "python3"
  },
  "language_info": {
   "codemirror_mode": {
    "name": "ipython",
    "version": 3
   },
   "file_extension": ".py",
   "mimetype": "text/x-python",
   "name": "python",
   "nbconvert_exporter": "python",
   "pygments_lexer": "ipython3",
   "version": "3.10.12"
  }
 },
 "nbformat": 4,
 "nbformat_minor": 2
}
