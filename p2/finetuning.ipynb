{
 "cells": [
  {
   "cell_type": "markdown",
   "metadata": {},
   "source": [
    "# Notebook"
   ]
  },
  {
   "cell_type": "markdown",
   "metadata": {},
   "source": [
    "## Setting up"
   ]
  },
  {
   "cell_type": "code",
   "execution_count": 168,
   "metadata": {},
   "outputs": [],
   "source": [
    "import matplotlib.pyplot as plt\n",
    "import numpy as np\n",
    "import pandas as pd\n",
    "import torch\n",
    "import warnings\n",
    "import time\n",
    "\n",
    "from sklearn.metrics import confusion_matrix\n",
    "from sklearn.metrics import accuracy_score\n",
    "from sklearn.metrics import precision_score\n",
    "from sklearn.metrics import recall_score\n",
    "from sklearn.metrics import f1_score\n",
    "\n",
    "from datasets import Dataset\n",
    "from datasets import DatasetDict\n",
    "from datasets import load_metric\n",
    "\n",
    "from transformers import AutoTokenizer\n",
    "from transformers import AutoModel\n",
    "from transformers import AutoModelForSequenceClassification\n",
    "from transformers import TrainingArguments, Trainer\n",
    "from transformers import DataCollatorWithPadding\n",
    "from transformers import TextClassificationPipeline\n",
    "from transformers import pipeline\n",
    "\n",
    "from peft import get_peft_model, LoraConfig, TaskType\n",
    "\n",
    "# suppress FutureWarning\n",
    "warnings.simplefilter(action='ignore', category=FutureWarning)"
   ]
  },
  {
   "cell_type": "code",
   "execution_count": 169,
   "metadata": {},
   "outputs": [
    {
     "name": "stdout",
     "output_type": "stream",
     "text": [
      "(8336, 2)\n"
     ]
    },
    {
     "data": {
      "text/html": [
       "<div>\n",
       "<style scoped>\n",
       "    .dataframe tbody tr th:only-of-type {\n",
       "        vertical-align: middle;\n",
       "    }\n",
       "\n",
       "    .dataframe tbody tr th {\n",
       "        vertical-align: top;\n",
       "    }\n",
       "\n",
       "    .dataframe thead th {\n",
       "        text-align: right;\n",
       "    }\n",
       "</style>\n",
       "<table border=\"1\" class=\"dataframe\">\n",
       "  <thead>\n",
       "    <tr style=\"text-align: right;\">\n",
       "      <th></th>\n",
       "      <th>text</th>\n",
       "      <th>label</th>\n",
       "    </tr>\n",
       "  </thead>\n",
       "  <tbody>\n",
       "    <tr>\n",
       "      <th>98790</th>\n",
       "      <td>i wanted them to feel now i feel as though i a...</td>\n",
       "      <td>0</td>\n",
       "    </tr>\n",
       "    <tr>\n",
       "      <th>18398</th>\n",
       "      <td>i found myself feeling very sympathetic toward...</td>\n",
       "      <td>2</td>\n",
       "    </tr>\n",
       "    <tr>\n",
       "      <th>139349</th>\n",
       "      <td>ive been feeling pretty good today and tonight...</td>\n",
       "      <td>1</td>\n",
       "    </tr>\n",
       "    <tr>\n",
       "      <th>13416</th>\n",
       "      <td>i can use to cover my ass when i feel inadequate</td>\n",
       "      <td>0</td>\n",
       "    </tr>\n",
       "    <tr>\n",
       "      <th>22297</th>\n",
       "      <td>i feel like ive pissed myself again</td>\n",
       "      <td>3</td>\n",
       "    </tr>\n",
       "  </tbody>\n",
       "</table>\n",
       "</div>"
      ],
      "text/plain": [
       "                                                     text  label\n",
       "98790   i wanted them to feel now i feel as though i a...      0\n",
       "18398   i found myself feeling very sympathetic toward...      2\n",
       "139349  ive been feeling pretty good today and tonight...      1\n",
       "13416    i can use to cover my ass when i feel inadequate      0\n",
       "22297                 i feel like ive pissed myself again      3"
      ]
     },
     "execution_count": 169,
     "metadata": {},
     "output_type": "execute_result"
    }
   ],
   "source": [
    "df = pd.read_pickle(\"data/data_original.pkl\")\n",
    "\n",
    "down_sample_percentage = 2\n",
    "\n",
    "# down sample data\n",
    "df = df.sample(frac=down_sample_percentage/100, random_state=1)\n",
    "\n",
    "# rename emotions to label and map to integers\n",
    "df.rename(columns={'emotions':'label'}, inplace = True)\n",
    "label_map = {\"sadness\": 0, \"joy\": 1, \"love\": 2, \"anger\": 3, \"fear\": 4, \"surprise\": 5} \n",
    "df['label'] = df['label'].map(label_map)\n",
    "\n",
    "print(df.shape)\n",
    "df.head()"
   ]
  },
  {
   "cell_type": "code",
   "execution_count": 170,
   "metadata": {},
   "outputs": [
    {
     "name": "stdout",
     "output_type": "stream",
     "text": [
      "DatasetDict({\n",
      "    train: Dataset({\n",
      "        features: ['text', 'label', '__index_level_0__'],\n",
      "        num_rows: 6668\n",
      "    })\n",
      "    validation: Dataset({\n",
      "        features: ['text', 'label', '__index_level_0__'],\n",
      "        num_rows: 834\n",
      "    })\n",
      "    test: Dataset({\n",
      "        features: ['text', 'label', '__index_level_0__'],\n",
      "        num_rows: 834\n",
      "    })\n",
      "})\n"
     ]
    }
   ],
   "source": [
    "dataset = Dataset.from_pandas(df)\n",
    "\n",
    "# 80% train, 20% test+validation\n",
    "train_test = dataset.train_test_split(test_size=0.2)\n",
    "\n",
    "# Split the 10% test+validation set in half test, half validation\n",
    "valid_test = train_test['test'].train_test_split(test_size=0.5)\n",
    "\n",
    "# gather everyone if you want to have a single DatasetDict\n",
    "train_valid_test_dataset = DatasetDict({\n",
    "    'train': train_test['train'],\n",
    "    'validation': valid_test['train'],\n",
    "    'test': valid_test['test']\n",
    "})\n",
    "\n",
    "print(train_valid_test_dataset)"
   ]
  },
  {
   "cell_type": "markdown",
   "metadata": {},
   "source": [
    "## Fine-tuning a pre-trained Hugging Face model"
   ]
  },
  {
   "cell_type": "markdown",
   "metadata": {},
   "source": [
    "We need to load:\n",
    "- the pre-trained model itself\n",
    "- the tokenizer associated with the model (used to preprocess the data)"
   ]
  },
  {
   "cell_type": "code",
   "execution_count": 171,
   "metadata": {},
   "outputs": [
    {
     "name": "stderr",
     "output_type": "stream",
     "text": [
      "Some weights of DistilBertForSequenceClassification were not initialized from the model checkpoint at domain-model/distilbert-emotions and are newly initialized: ['classifier.bias', 'classifier.weight', 'pre_classifier.bias', 'pre_classifier.weight']\n",
      "You should probably TRAIN this model on a down-stream task to be able to use it for predictions and inference.\n"
     ]
    }
   ],
   "source": [
    "# The first option is to use the default distilbert-base-uncased model that we have\n",
    "# model_name = \"distilbert-base-uncased\" # bert-base-uncased\n",
    "\n",
    "# model = AutoModelForSequenceClassification.from_pretrained(model_name, num_labels=6)\n",
    "# tokenizer = AutoTokenizer.from_pretrained(model_name)\n",
    "\n",
    "# The second option is to use our own distilbert model that we have trained because of the domain adaptation\n",
    "# Load the model from the folder ./domain-model/distilbert-emotions\n",
    "model = AutoModelForSequenceClassification.from_pretrained(\"domain-model/distilbert-emotions\", num_labels=6)\n",
    "tokenizer = AutoTokenizer.from_pretrained(\"domain-model/distilbert-emotions\")\n"
   ]
  },
  {
   "cell_type": "code",
   "execution_count": 172,
   "metadata": {},
   "outputs": [
    {
     "name": "stdout",
     "output_type": "stream",
     "text": [
      "DistilBertForSequenceClassification(\n",
      "  (distilbert): DistilBertModel(\n",
      "    (embeddings): Embeddings(\n",
      "      (word_embeddings): Embedding(30522, 768, padding_idx=0)\n",
      "      (position_embeddings): Embedding(512, 768)\n",
      "      (LayerNorm): LayerNorm((768,), eps=1e-12, elementwise_affine=True)\n",
      "      (dropout): Dropout(p=0.1, inplace=False)\n",
      "    )\n",
      "    (transformer): Transformer(\n",
      "      (layer): ModuleList(\n",
      "        (0-5): 6 x TransformerBlock(\n",
      "          (attention): MultiHeadSelfAttention(\n",
      "            (dropout): Dropout(p=0.1, inplace=False)\n",
      "            (q_lin): Linear(in_features=768, out_features=768, bias=True)\n",
      "            (k_lin): Linear(in_features=768, out_features=768, bias=True)\n",
      "            (v_lin): Linear(in_features=768, out_features=768, bias=True)\n",
      "            (out_lin): Linear(in_features=768, out_features=768, bias=True)\n",
      "          )\n",
      "          (sa_layer_norm): LayerNorm((768,), eps=1e-12, elementwise_affine=True)\n",
      "          (ffn): FFN(\n",
      "            (dropout): Dropout(p=0.1, inplace=False)\n",
      "            (lin1): Linear(in_features=768, out_features=3072, bias=True)\n",
      "            (lin2): Linear(in_features=3072, out_features=768, bias=True)\n",
      "            (activation): GELUActivation()\n",
      "          )\n",
      "          (output_layer_norm): LayerNorm((768,), eps=1e-12, elementwise_affine=True)\n",
      "        )\n",
      "      )\n",
      "    )\n",
      "  )\n",
      "  (pre_classifier): Linear(in_features=768, out_features=768, bias=True)\n",
      "  (classifier): Linear(in_features=768, out_features=6, bias=True)\n",
      "  (dropout): Dropout(p=0.2, inplace=False)\n",
      ")\n"
     ]
    }
   ],
   "source": [
    "print(model)"
   ]
  },
  {
   "cell_type": "markdown",
   "metadata": {},
   "source": [
    "We can try to use LoRA to perform the fine-tuning of the model."
   ]
  },
  {
   "cell_type": "code",
   "execution_count": 173,
   "metadata": {},
   "outputs": [],
   "source": [
    "# Set up LoRA configuration for distilbert-base-uncased model\n",
    "# config = LoraConfig(\n",
    "#     r=32,  # Rank of the low-rank matrices\n",
    "#     lora_alpha=32,\n",
    "#     target_modules = [\n",
    "#         'transformer.layer.0.attention.q_lin',\n",
    "#         'transformer.layer.0.attention.k_lin',\n",
    "#         'transformer.layer.0.attention.v_lin',\n",
    "#         'transformer.layer.0.attention.out_lin',\n",
    "#     ],\n",
    "#     task_type=TaskType.SEQ_CLS,  # Task type for sequence classification\n",
    "#     lora_dropout=0.1\n",
    "# )\n",
    "\n",
    "# model = get_peft_model(model, config)"
   ]
  },
  {
   "cell_type": "markdown",
   "metadata": {},
   "source": [
    "### Pre-processing the data with the tokenizer"
   ]
  },
  {
   "cell_type": "code",
   "execution_count": 174,
   "metadata": {},
   "outputs": [
    {
     "data": {
      "application/vnd.jupyter.widget-view+json": {
       "model_id": "636c514e374c47048ced7b8aed00babd",
       "version_major": 2,
       "version_minor": 0
      },
      "text/plain": [
       "Map:   0%|          | 0/6668 [00:00<?, ? examples/s]"
      ]
     },
     "metadata": {},
     "output_type": "display_data"
    },
    {
     "data": {
      "application/vnd.jupyter.widget-view+json": {
       "model_id": "bae1158ccff2463ba43c072dca777f96",
       "version_major": 2,
       "version_minor": 0
      },
      "text/plain": [
       "Map:   0%|          | 0/834 [00:00<?, ? examples/s]"
      ]
     },
     "metadata": {},
     "output_type": "display_data"
    },
    {
     "data": {
      "application/vnd.jupyter.widget-view+json": {
       "model_id": "f9235a94bc5d4741a7cc71267e498b78",
       "version_major": 2,
       "version_minor": 0
      },
      "text/plain": [
       "Map:   0%|          | 0/834 [00:00<?, ? examples/s]"
      ]
     },
     "metadata": {},
     "output_type": "display_data"
    },
    {
     "name": "stdout",
     "output_type": "stream",
     "text": [
      "DatasetDict({\n",
      "    train: Dataset({\n",
      "        features: ['text', 'label', '__index_level_0__', 'input_ids', 'attention_mask'],\n",
      "        num_rows: 6668\n",
      "    })\n",
      "    validation: Dataset({\n",
      "        features: ['text', 'label', '__index_level_0__', 'input_ids', 'attention_mask'],\n",
      "        num_rows: 834\n",
      "    })\n",
      "    test: Dataset({\n",
      "        features: ['text', 'label', '__index_level_0__', 'input_ids', 'attention_mask'],\n",
      "        num_rows: 834\n",
      "    })\n",
      "})\n"
     ]
    }
   ],
   "source": [
    "def preprocess_function(sample):\n",
    "    return tokenizer(sample[\"text\"], padding=True, truncation=True, return_tensors=\"pt\")\n",
    "\n",
    "tokenized_dataset = train_valid_test_dataset.map(preprocess_function, batched=True)\n",
    "\n",
    "print(tokenized_dataset)"
   ]
  },
  {
   "cell_type": "markdown",
   "metadata": {},
   "source": [
    "The preprocessing transforms the data into a format that the model can understand. The model then processes the data to make predictions. This is known as **encoding**. Encoding is done in a two-step process: tokenization, followed by conversion to input IDs."
   ]
  },
  {
   "cell_type": "code",
   "execution_count": 175,
   "metadata": {},
   "outputs": [],
   "source": [
    "# print(tokenized_dataset['train'][321])\n",
    "# tokens = tokenizer.tokenize(tokenized_dataset['train'][321]['text'])\n",
    "# print(tokens)\n",
    "# ids = tokenizer.convert_tokens_to_ids(tokens)\n",
    "# print(ids)"
   ]
  },
  {
   "cell_type": "markdown",
   "metadata": {},
   "source": [
    "### Model training (Fine-tuning)"
   ]
  },
  {
   "cell_type": "code",
   "execution_count": 176,
   "metadata": {},
   "outputs": [],
   "source": [
    "def predict(text):\n",
    "    global model, tokenizer\n",
    "    inputs = tokenizer(text, return_tensors=\"pt\")\n",
    "    outputs = model(**inputs)\n",
    "    predictions = torch.nn.functional.softmax(outputs.logits, dim=1)\n",
    "    print(predictions)\n",
    "    predicted_class = torch.argmax(predictions)\n",
    "    name = [i for i, j in label_map.items() if j == predicted_class.item()][0]\n",
    "    print(f\"Predicted class: {name}\")\n",
    "    \n",
    "# predict(\"I'm so sad\")"
   ]
  },
  {
   "cell_type": "code",
   "execution_count": 177,
   "metadata": {},
   "outputs": [],
   "source": [
    "metric = load_metric(\"accuracy\")\n",
    "\n",
    "def compute_metrics(eval_pred):\n",
    "    logits, labels = eval_pred\n",
    "    predictions = np.argmax(logits, axis=-1)\n",
    "    return metric.compute(predictions=predictions, references=labels)\n",
    "\n",
    "training_args = TrainingArguments(\n",
    "    output_dir=\"./results\",\n",
    "    learning_rate=2e-5,\n",
    "    per_device_train_batch_size=16,\n",
    "    per_device_eval_batch_size=16,\n",
    "    num_train_epochs=3,\n",
    "    weight_decay=0.01,\n",
    "    evaluation_strategy=\"epoch\",\n",
    "    save_strategy=\"epoch\",\n",
    "    load_best_model_at_end=True,\n",
    ")\n",
    "\n",
    "data_collator = DataCollatorWithPadding(tokenizer=tokenizer)\n",
    "\n",
    "trainer = Trainer(\n",
    "    model=model,\n",
    "    args=training_args,\n",
    "    train_dataset=tokenized_dataset[\"train\"],\n",
    "    eval_dataset=tokenized_dataset[\"validation\"],\n",
    "    tokenizer=tokenizer,\n",
    "    data_collator=data_collator,\n",
    "    compute_metrics=compute_metrics\n",
    ")"
   ]
  },
  {
   "cell_type": "code",
   "execution_count": 178,
   "metadata": {},
   "outputs": [
    {
     "data": {
      "application/vnd.jupyter.widget-view+json": {
       "model_id": "7a80c67801224908b116bf5691f59dbf",
       "version_major": 2,
       "version_minor": 0
      },
      "text/plain": [
       "  0%|          | 0/53 [00:00<?, ?it/s]"
      ]
     },
     "metadata": {},
     "output_type": "display_data"
    },
    {
     "data": {
      "text/plain": [
       "{'eval_loss': 1.7988460063934326,\n",
       " 'eval_accuracy': 0.07673860911270983,\n",
       " 'eval_runtime': 35.5117,\n",
       " 'eval_samples_per_second': 23.485,\n",
       " 'eval_steps_per_second': 1.492}"
      ]
     },
     "execution_count": 178,
     "metadata": {},
     "output_type": "execute_result"
    }
   ],
   "source": [
    "trainer.evaluate()"
   ]
  },
  {
   "cell_type": "code",
   "execution_count": 179,
   "metadata": {},
   "outputs": [
    {
     "data": {
      "application/vnd.jupyter.widget-view+json": {
       "model_id": "29810896d76147faa77760143d9d9385",
       "version_major": 2,
       "version_minor": 0
      },
      "text/plain": [
       "  0%|          | 0/1251 [00:00<?, ?it/s]"
      ]
     },
     "metadata": {},
     "output_type": "display_data"
    },
    {
     "data": {
      "application/vnd.jupyter.widget-view+json": {
       "model_id": "0ced5a61485041b08fdcff45f02c0705",
       "version_major": 2,
       "version_minor": 0
      },
      "text/plain": [
       "  0%|          | 0/53 [00:00<?, ?it/s]"
      ]
     },
     "metadata": {},
     "output_type": "display_data"
    },
    {
     "name": "stdout",
     "output_type": "stream",
     "text": [
      "{'eval_loss': 0.27880287170410156, 'eval_accuracy': 0.9112709832134293, 'eval_runtime': 34.2637, 'eval_samples_per_second': 24.341, 'eval_steps_per_second': 1.547, 'epoch': 1.0}\n",
      "{'loss': 0.7145, 'grad_norm': 5.083164215087891, 'learning_rate': 1.2006394884092727e-05, 'epoch': 1.2}\n"
     ]
    },
    {
     "data": {
      "application/vnd.jupyter.widget-view+json": {
       "model_id": "57bc7acaad6045a8bd1c17b56ed01ad2",
       "version_major": 2,
       "version_minor": 0
      },
      "text/plain": [
       "  0%|          | 0/53 [00:00<?, ?it/s]"
      ]
     },
     "metadata": {},
     "output_type": "display_data"
    },
    {
     "name": "stdout",
     "output_type": "stream",
     "text": [
      "{'eval_loss': 0.20296205580234528, 'eval_accuracy': 0.9328537170263789, 'eval_runtime': 36.1205, 'eval_samples_per_second': 23.089, 'eval_steps_per_second': 1.467, 'epoch': 2.0}\n",
      "{'loss': 0.1915, 'grad_norm': 9.929101943969727, 'learning_rate': 4.012789768185452e-06, 'epoch': 2.4}\n"
     ]
    },
    {
     "data": {
      "application/vnd.jupyter.widget-view+json": {
       "model_id": "e24d4a0b600743168f4abbb5fd180566",
       "version_major": 2,
       "version_minor": 0
      },
      "text/plain": [
       "  0%|          | 0/53 [00:00<?, ?it/s]"
      ]
     },
     "metadata": {},
     "output_type": "display_data"
    },
    {
     "name": "stdout",
     "output_type": "stream",
     "text": [
      "{'eval_loss': 0.18556897342205048, 'eval_accuracy': 0.9376498800959233, 'eval_runtime': 35.5865, 'eval_samples_per_second': 23.436, 'eval_steps_per_second': 1.489, 'epoch': 3.0}\n",
      "{'train_runtime': 4563.8755, 'train_samples_per_second': 4.383, 'train_steps_per_second': 0.274, 'train_loss': 0.38803124065688854, 'epoch': 3.0}\n",
      "Training time: 76.13268369833628 minutes\n"
     ]
    }
   ],
   "source": [
    "start = time.time()\n",
    "trainer.train()\n",
    "end = time.time()\n",
    "print(f\"Training time: {(end - start)/60} minutes\")"
   ]
  },
  {
   "cell_type": "code",
   "execution_count": 180,
   "metadata": {},
   "outputs": [
    {
     "data": {
      "application/vnd.jupyter.widget-view+json": {
       "model_id": "b30d810c02874ca08297851f1c270ed0",
       "version_major": 2,
       "version_minor": 0
      },
      "text/plain": [
       "  0%|          | 0/53 [00:00<?, ?it/s]"
      ]
     },
     "metadata": {},
     "output_type": "display_data"
    },
    {
     "data": {
      "text/plain": [
       "{'eval_loss': 0.18556897342205048,\n",
       " 'eval_accuracy': 0.9376498800959233,\n",
       " 'eval_runtime': 33.8111,\n",
       " 'eval_samples_per_second': 24.666,\n",
       " 'eval_steps_per_second': 1.568,\n",
       " 'epoch': 3.0}"
      ]
     },
     "execution_count": 180,
     "metadata": {},
     "output_type": "execute_result"
    }
   ],
   "source": [
    "trainer.evaluate()"
   ]
  },
  {
   "cell_type": "code",
   "execution_count": 181,
   "metadata": {},
   "outputs": [
    {
     "data": {
      "application/vnd.jupyter.widget-view+json": {
       "model_id": "514e19283d6e4b9c81f6ca00a5ed874c",
       "version_major": 2,
       "version_minor": 0
      },
      "text/plain": [
       "  0%|          | 0/53 [00:00<?, ?it/s]"
      ]
     },
     "metadata": {},
     "output_type": "display_data"
    },
    {
     "data": {
      "text/plain": [
       "PredictionOutput(predictions=array([[-1.3285376 ,  5.565047  , -1.0736636 , -1.3972268 , -0.9172383 ,\n",
       "        -1.2385931 ],\n",
       "       [-1.5442219 ,  5.2486563 , -1.1156642 , -1.4362336 , -0.59508455,\n",
       "        -1.153757  ],\n",
       "       [-0.896855  , -1.5489328 , -1.9066279 ,  4.829126  , -1.3133836 ,\n",
       "        -1.722883  ],\n",
       "       ...,\n",
       "       [ 5.5827637 , -1.6134737 , -1.6665905 , -0.54306954, -1.1256189 ,\n",
       "        -1.9434421 ],\n",
       "       [-1.4486278 ,  5.5715547 , -0.5813118 , -1.7403328 , -1.1537981 ,\n",
       "        -1.2954366 ],\n",
       "       [ 1.9441276 ,  2.918335  , -1.7645817 , -1.1412662 , -0.96272266,\n",
       "        -1.7569065 ]], dtype=float32), label_ids=array([1, 1, 3, 4, 4, 3, 1, 4, 4, 1, 1, 1, 1, 3, 0, 1, 1, 1, 4, 3, 0, 0,\n",
       "       4, 0, 5, 0, 5, 1, 2, 3, 0, 4, 1, 1, 0, 1, 5, 4, 3, 2, 0, 1, 2, 4,\n",
       "       1, 1, 2, 4, 1, 1, 0, 1, 0, 0, 4, 2, 3, 4, 1, 2, 4, 0, 1, 1, 0, 3,\n",
       "       1, 0, 2, 0, 0, 5, 3, 1, 1, 4, 1, 0, 1, 1, 0, 3, 0, 0, 1, 0, 3, 3,\n",
       "       0, 1, 0, 0, 3, 1, 1, 2, 3, 0, 1, 2, 1, 0, 0, 0, 1, 1, 2, 0, 1, 1,\n",
       "       0, 1, 1, 0, 5, 3, 1, 3, 1, 5, 4, 0, 0, 0, 0, 1, 3, 4, 0, 1, 1, 3,\n",
       "       0, 0, 3, 0, 1, 0, 1, 3, 1, 4, 3, 4, 1, 1, 5, 0, 3, 1, 1, 0, 0, 2,\n",
       "       1, 0, 1, 0, 1, 0, 1, 3, 1, 1, 0, 0, 1, 5, 3, 0, 0, 4, 1, 1, 1, 1,\n",
       "       0, 0, 1, 0, 4, 1, 5, 0, 0, 0, 1, 1, 4, 1, 4, 1, 3, 3, 4, 1, 0, 0,\n",
       "       1, 0, 0, 3, 2, 0, 1, 4, 1, 0, 0, 0, 1, 2, 0, 0, 2, 0, 0, 3, 1, 1,\n",
       "       4, 2, 2, 0, 3, 4, 2, 1, 0, 3, 1, 0, 1, 1, 3, 0, 1, 3, 0, 2, 1, 0,\n",
       "       2, 0, 4, 0, 1, 4, 4, 3, 1, 0, 1, 3, 2, 2, 0, 4, 3, 1, 4, 2, 4, 1,\n",
       "       2, 4, 1, 2, 0, 1, 0, 3, 2, 5, 2, 1, 3, 1, 4, 1, 2, 0, 1, 0, 3, 0,\n",
       "       1, 1, 1, 1, 0, 4, 4, 0, 0, 1, 0, 3, 1, 3, 5, 3, 3, 0, 4, 0, 5, 3,\n",
       "       0, 1, 3, 3, 5, 0, 3, 1, 4, 3, 0, 1, 2, 4, 0, 2, 4, 4, 2, 1, 0, 1,\n",
       "       1, 0, 2, 1, 1, 0, 1, 2, 5, 1, 1, 1, 3, 2, 0, 1, 1, 0, 5, 2, 1, 1,\n",
       "       2, 3, 3, 4, 1, 0, 2, 4, 0, 4, 3, 3, 1, 0, 0, 3, 3, 0, 1, 1, 1, 0,\n",
       "       1, 0, 4, 1, 0, 3, 2, 0, 3, 2, 5, 1, 3, 1, 4, 0, 0, 3, 0, 4, 1, 3,\n",
       "       0, 4, 2, 1, 2, 0, 0, 1, 4, 2, 3, 0, 3, 2, 5, 3, 1, 1, 1, 4, 1, 2,\n",
       "       0, 2, 0, 0, 1, 1, 0, 5, 2, 3, 0, 0, 0, 2, 0, 0, 0, 1, 0, 2, 0, 1,\n",
       "       1, 4, 3, 1, 1, 1, 0, 1, 0, 1, 0, 0, 0, 3, 1, 0, 1, 5, 1, 1, 1, 0,\n",
       "       3, 3, 0, 0, 0, 1, 3, 5, 3, 0, 1, 1, 1, 1, 0, 5, 4, 3, 4, 0, 0, 1,\n",
       "       0, 1, 4, 4, 1, 1, 0, 3, 1, 1, 0, 3, 1, 0, 3, 1, 4, 1, 0, 1, 1, 1,\n",
       "       0, 5, 1, 4, 0, 0, 1, 0, 1, 0, 1, 2, 4, 3, 3, 4, 5, 0, 1, 0, 1, 0,\n",
       "       1, 1, 1, 2, 3, 1, 4, 3, 0, 3, 4, 3, 0, 4, 4, 1, 0, 4, 0, 0, 1, 1,\n",
       "       0, 3, 3, 4, 1, 3, 1, 0, 0, 2, 5, 0, 0, 0, 3, 1, 2, 3, 1, 4, 0, 0,\n",
       "       1, 4, 3, 1, 1, 1, 0, 2, 1, 4, 4, 1, 1, 1, 0, 0, 1, 1, 1, 0, 0, 5,\n",
       "       4, 5, 3, 2, 1, 1, 3, 3, 4, 1, 3, 1, 1, 1, 0, 0, 4, 1, 1, 0, 1, 4,\n",
       "       0, 2, 0, 2, 1, 0, 0, 1, 3, 1, 0, 3, 4, 0, 1, 4, 3, 0, 0, 4, 0, 5,\n",
       "       2, 1, 0, 4, 1, 4, 0, 4, 4, 1, 3, 3, 4, 0, 1, 2, 4, 0, 4, 1, 2, 1,\n",
       "       5, 1, 0, 3, 0, 1, 4, 0, 0, 1, 0, 1, 3, 1, 3, 0, 0, 0, 0, 0, 1, 2,\n",
       "       1, 1, 1, 2, 4, 0, 1, 1, 1, 4, 4, 2, 0, 0, 3, 1, 1, 0, 3, 1, 2, 2,\n",
       "       0, 0, 1, 0, 0, 3, 4, 2, 2, 3, 2, 3, 1, 2, 1, 4, 1, 0, 1, 3, 2, 2,\n",
       "       0, 3, 1, 4, 4, 1, 3, 0, 1, 3, 0, 2, 0, 1, 1, 3, 0, 4, 1, 0, 1, 3,\n",
       "       4, 0, 1, 1, 2, 5, 1, 1, 4, 3, 0, 0, 1, 3, 1, 0, 1, 2, 1, 0, 0, 3,\n",
       "       4, 0, 0, 4, 0, 2, 3, 3, 0, 4, 5, 1, 4, 1, 1, 1, 0, 1, 0, 0, 4, 1,\n",
       "       0, 3, 1, 1, 0, 0, 1, 1, 1, 0, 3, 5, 1, 0, 3, 0, 0, 5, 4, 1, 1, 1,\n",
       "       1, 2, 4, 1, 1, 3, 0, 1, 0, 0, 2, 4, 3, 1, 1, 1, 4, 0, 1, 1]), metrics={'test_loss': 0.1843523383140564, 'test_accuracy': 0.9364508393285371, 'test_runtime': 34.0339, 'test_samples_per_second': 24.505, 'test_steps_per_second': 1.557})"
      ]
     },
     "execution_count": 181,
     "metadata": {},
     "output_type": "execute_result"
    }
   ],
   "source": [
    "trainer.predict(test_dataset=tokenized_dataset[\"test\"])"
   ]
  },
  {
   "cell_type": "markdown",
   "metadata": {},
   "source": [
    "### Save & Load Model"
   ]
  },
  {
   "cell_type": "code",
   "execution_count": 182,
   "metadata": {},
   "outputs": [],
   "source": [
    "trainer.save_model()\n",
    "\n",
    "tokenizer2 = AutoTokenizer.from_pretrained(\"./results\")\n",
    "model2 = AutoModelForSequenceClassification.from_pretrained(\"./results\", num_labels=6)\n",
    "\n",
    "pipe = TextClassificationPipeline(model=model2, tokenizer=tokenizer2) #, return_all_scores=True)\n",
    "\n",
    "# pipe(\"I love this place!\")\n",
    "# pipe(\"Paris was very disappointing\")"
   ]
  },
  {
   "cell_type": "markdown",
   "metadata": {},
   "source": [
    "### Evaluate Model Results"
   ]
  },
  {
   "cell_type": "code",
   "execution_count": 183,
   "metadata": {},
   "outputs": [],
   "source": [
    "def show_cm(cm, classes, figsize=(10, 10)):\n",
    "    # cm = np.array([[TP, FP], [FN, TN]])\n",
    "    plt.figure(figsize=figsize)\n",
    "    plt.imshow(cm)\n",
    "    plt.suptitle('Confusion matrix')\n",
    "    total = sum(sum(cm))\n",
    "    plt.title('Total cases: {}'.format(total))\n",
    "    plt.colorbar()\n",
    "    plt.ylabel('True label')\n",
    "    plt.xlabel('Predicted label')\n",
    "    tick_marks = np.arange(len(classes))\n",
    "    plt.xticks(tick_marks, classes)\n",
    "    plt.yticks(tick_marks, classes)\n",
    "\n",
    "    for i in range(len(classes)):\n",
    "        for j in range(len(classes)):\n",
    "            perc = round(cm[i, j] / total * 100, 1)\n",
    "            plt.text(j, i, f\"{format(cm[i, j], '.0f')} : {perc}%\", horizontalalignment=\"center\",\n",
    "                     color=\"black\" if cm[i, j] > cm.max() / 2 else \"white\")\n",
    "\n",
    "    plt.show()"
   ]
  },
  {
   "cell_type": "code",
   "execution_count": 184,
   "metadata": {},
   "outputs": [
    {
     "data": {
      "image/png": "[encoded data removed]",
      "text/plain": [
       "<Figure size 1000x1000 with 2 Axes>"
      ]
     },
     "metadata": {},
     "output_type": "display_data"
    },
    {
     "name": "stdout",
     "output_type": "stream",
     "text": [
      "Accuracy:  0.9364508393285371\n",
      "Precision:  0.9114629132536788\n",
      "Recall:  0.9196219656385033\n",
      "F1:  0.9148486043771605\n"
     ]
    }
   ],
   "source": [
    "y_pred= []\n",
    "for p in tokenized_dataset['test']['text']:\n",
    "    ti = tokenizer2(p, return_tensors=\"pt\")\n",
    "    out = model2(**ti)\n",
    "    pred = torch.argmax(out.logits)\n",
    "    y_pred.append(pred)\n",
    "    \n",
    "y_test = tokenized_dataset['test']['label']\n",
    "\n",
    "show_cm(confusion_matrix(y_test, y_pred), label_map.keys())\n",
    "print('Accuracy: ', accuracy_score(y_test, y_pred))\n",
    "print('Precision: ', precision_score(y_test, y_pred, average='macro'))\n",
    "print('Recall: ', recall_score(y_test, y_pred, average='macro'))\n",
    "print('F1: ', f1_score(y_test, y_pred, average='macro'))"
   ]
  }
 ],
 "metadata": {
  "kernelspec": {
   "display_name": "Python 3",
   "language": "python",
   "name": "python3"
  },
  "language_info": {
   "codemirror_mode": {
    "name": "ipython",
    "version": 3
   },
   "file_extension": ".py",
   "mimetype": "text/x-python",
   "name": "python",
   "nbconvert_exporter": "python",
   "pygments_lexer": "ipython3",
   "version": "3.10.12"
  }
 },
 "nbformat": 4,
 "nbformat_minor": 2
}
