{
 "cells": [
  {
   "cell_type": "markdown",
   "metadata": {},
   "source": [
    "# Model Training and Result Analysis"
   ]
  },
  {
   "cell_type": "markdown",
   "metadata": {},
   "source": [
    "## Imports and Data Loading"
   ]
  },
  {
   "cell_type": "code",
   "execution_count": 4,
   "metadata": {},
   "outputs": [],
   "source": [
    "from sklearn.model_selection import train_test_split\n",
    "from sklearn.model_selection import cross_val_score\n",
    "from sklearn.model_selection import cross_validate\n",
    "import numpy as np\n",
    "import matplotlib.pyplot as plt\n",
    "import pandas as pd\n",
    "\n",
    "# Classifiers\n",
    "from sklearn.naive_bayes import MultinomialNB\n",
    "from sklearn.tree import DecisionTreeClassifier\n",
    "from sklearn.svm import SVC\n",
    "from sklearn.neural_network import MLPClassifier\n",
    "from sklearn.model_selection import GridSearchCV\n",
    "from sklearn.ensemble import RandomForestClassifier\n",
    "from sklearn.naive_bayes import GaussianNB\n",
    "from sklearn.neighbors import KNeighborsClassifier\n",
    "from sklearn.ensemble import GradientBoostingClassifier\n",
    "from sklearn.linear_model import LogisticRegression\n",
    "from sklearn.linear_model import SGDClassifier\n",
    "from sklearn.svm import LinearSVC\n",
    "\n",
    "# Model Metrics\n",
    "from sklearn.metrics import confusion_matrix\n",
    "from sklearn.metrics import accuracy_score\n",
    "from sklearn.metrics import precision_score\n",
    "from sklearn.metrics import recall_score\n",
    "from sklearn.metrics import f1_score"
   ]
  },
  {
   "cell_type": "code",
   "execution_count": 7,
   "metadata": {},
   "outputs": [],
   "source": [
    "df = pd.read_pickle('data/data_processed.pkl')"
   ]
  },
  {
   "cell_type": "markdown",
   "metadata": {},
   "source": [
    "## Defining useful functions"
   ]
  },
  {
   "cell_type": "code",
   "execution_count": null,
   "metadata": {},
   "outputs": [],
   "source": [
    "def split(x, y, test_size = 0.2, log=False):\n",
    "    X_train, X_test, y_train, y_test = train_test_split(x, y, test_size = test_size, random_state = 0, stratify=y)\n",
    "\n",
    "    if log:\n",
    "        print(\"Train Shape:\")\n",
    "        print(X_train.shape, y_train.shape)\n",
    "        print(\"Test Shape:\")\n",
    "        print(X_test.shape, y_test.shape)\n",
    "\n",
    "        print(\"\\nLabel distribution in the training set:\")\n",
    "        print(y_train.value_counts())\n",
    "        print(\"\\nLabel distribution in the test set:\")\n",
    "        print(y_test.value_counts())\n",
    "\n",
    "    return X_train, X_test, y_train, y_test"
   ]
  },
  {
   "cell_type": "code",
   "execution_count": null,
   "metadata": {},
   "outputs": [],
   "source": [
    "def evaluate(y_test, y_pred):\n",
    "    # confusion matrix\n",
    "    print(confusion_matrix(y_test, y_pred))\n",
    "\n",
    "    # accuracy, precision, recall, f1\n",
    "    print(\"Accuracy:\", accuracy_score(y_test, y_pred))\n",
    "    print(\"Precision:\", precision_score(y_test, y_pred))\n",
    "    print(\"Recall:\", recall_score(y_test, y_pred))\n",
    "    print(\"F1:\", f1_score(y_test, y_pred))"
   ]
  },
  {
   "cell_type": "code",
   "execution_count": null,
   "metadata": {},
   "outputs": [],
   "source": [
    "def train(model, x, y, split_size = 0.2, cross_count = 0):\n",
    "    if cross_count == 0:\n",
    "        X_train, X_test, y_train, y_test = split(x, y, test_size = split_size)\n",
    "\n",
    "        # Train and evaluate model\n",
    "        model.fit(X_train, y_train)\n",
    "        y_pred = model.predict(X_test)\n",
    "        evaluate(y_test, y_pred)\n",
    "    else:\n",
    "        scores = cross_validate(model, x, y, scoring=['accuracy', 'precision_macro', 'recall_macro', 'f1_macro'], return_train_score=True)\n",
    "        print(scores)"
   ]
  },
  {
   "cell_type": "code",
   "execution_count": null,
   "metadata": {},
   "outputs": [],
   "source": [
    "def show_cm(cm):\n",
    "    # cm = np.array([[TP, FP], [FN, TN]])\n",
    "    classes = ['Playoff', 'Eliminated']\n",
    "    plt.matshow(cm)\n",
    "    plt.suptitle('Confusion matrix')\n",
    "    total = sum(sum(cm))\n",
    "    plt.title('Total cases: {}'.format(total))\n",
    "    plt.colorbar()\n",
    "    plt.ylabel('True label')\n",
    "    plt.xlabel('Predicted label')\n",
    "    tick_marks = np.arange(len(classes))\n",
    "    plt.xticks(tick_marks, classes)\n",
    "    plt.yticks(tick_marks, classes)\n",
    "\n",
    "    for i in range(len(classes)):\n",
    "        for j in range(len(classes)):\n",
    "            perc = round(cm[i, j] / total * 100, 1)\n",
    "            plt.text(j, i, f\"{format(cm[i, j], '.0f')} : {perc}%\", horizontalalignment=\"center\",\n",
    "                     color=\"black\" if cm[i, j] > cm.max() / 2 else \"white\")\n",
    "\n",
    "    plt.show()"
   ]
  },
  {
   "cell_type": "markdown",
   "metadata": {},
   "source": [
    "## Defining the models to be trained"
   ]
  },
  {
   "cell_type": "code",
   "execution_count": null,
   "metadata": {},
   "outputs": [],
   "source": [
    "models = [\n",
    "    lambda: MultinomialNB(), # Naive Bayes\n",
    "    lambda: DecisionTreeClassifier(max_depth=5, min_samples_split=2, random_state=42),\n",
    "    lambda: GaussianNB(),\n",
    "    lambda: KNeighborsClassifier(n_neighbors=15, weights='uniform'),\n",
    "    lambda: GradientBoostingClassifier(n_estimators=100, learning_rate=0.01, max_depth=3, random_state=42),\n",
    "    lambda: RandomForestClassifier(n_estimators=100, random_state=42),\n",
    "    lambda: MLPClassifier(hidden_layer_sizes=(100, 50), max_iter=1000, random_state=42), # Neural Network\n",
    "    lambda: SVC(C=0.1, kernel='linear', probability=True), # Support Vector Machine\n",
    "    lambda: LogisticRegression(penalty='l2'), # Linear Model with overfitting avoidance\n",
    "    lambda: LinearSVC(penalty='l2'), # Linear Model with overfitting avoidance\n",
    "\n",
    "    # Linear Model with stochastic gradient descent learning (loss function)\n",
    "    lambda: SGDClassifier(loss='log', penalty='l2', alpha=0.001, max_iter=100, random_state=42)\n",
    "]"
   ]
  },
  {
   "cell_type": "markdown",
   "metadata": {},
   "source": [
    "# Model Training"
   ]
  },
  {
   "cell_type": "code",
   "execution_count": null,
   "metadata": {},
   "outputs": [],
   "source": [
    "# TODO\n",
    "\n",
    "\n"
   ]
  }
 ],
 "metadata": {
  "kernelspec": {
   "display_name": "Python 3",
   "language": "python",
   "name": "python3"
  },
  "language_info": {
   "codemirror_mode": {
    "name": "ipython",
    "version": 3
   },
   "file_extension": ".py",
   "mimetype": "text/x-python",
   "name": "python",
   "nbconvert_exporter": "python",
   "pygments_lexer": "ipython3",
   "version": "3.10.12"
  }
 },
 "nbformat": 4,
 "nbformat_minor": 2
}
